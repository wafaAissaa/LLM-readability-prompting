{
 "cells": [
  {
   "cell_type": "code",
   "execution_count": 6,
   "id": "initial_id",
   "metadata": {
    "ExecuteTime": {
     "end_time": "2025-05-04T15:19:42.247996Z",
     "start_time": "2025-05-04T15:19:42.219497Z"
    }
   },
   "outputs": [
    {
     "ename": "ModuleNotFoundError",
     "evalue": "No module named 'mistralai'",
     "output_type": "error",
     "traceback": [
      "\u001B[0;31m---------------------------------------------------------------------------\u001B[0m",
      "\u001B[0;31mModuleNotFoundError\u001B[0m                       Traceback (most recent call last)",
      "Cell \u001B[0;32mIn[6], line 4\u001B[0m\n\u001B[1;32m      1\u001B[0m \u001B[38;5;28;01mimport\u001B[39;00m \u001B[38;5;21;01mos\u001B[39;00m\n\u001B[1;32m      3\u001B[0m \u001B[38;5;28;01mimport\u001B[39;00m \u001B[38;5;21;01mpandas\u001B[39;00m \u001B[38;5;28;01mas\u001B[39;00m \u001B[38;5;21;01mpd\u001B[39;00m\n\u001B[0;32m----> 4\u001B[0m \u001B[38;5;28;01mfrom\u001B[39;00m \u001B[38;5;21;01mmistralai\u001B[39;00m \u001B[38;5;28;01mimport\u001B[39;00m Mistral\n\u001B[1;32m      5\u001B[0m os\u001B[38;5;241m.\u001B[39menviron[\u001B[38;5;124m\"\u001B[39m\u001B[38;5;124mMISTRAL_API_KEY\u001B[39m\u001B[38;5;124m\"\u001B[39m] \u001B[38;5;241m=\u001B[39m \u001B[38;5;124m\"\u001B[39m\u001B[38;5;124m0d3qJFz4PjVCvqhpBO5zthAU5icy8exJ\u001B[39m\u001B[38;5;124m\"\u001B[39m\n\u001B[1;32m      6\u001B[0m api_key \u001B[38;5;241m=\u001B[39m os\u001B[38;5;241m.\u001B[39menviron[\u001B[38;5;124m\"\u001B[39m\u001B[38;5;124mMISTRAL_API_KEY\u001B[39m\u001B[38;5;124m\"\u001B[39m]\n",
      "\u001B[0;31mModuleNotFoundError\u001B[0m: No module named 'mistralai'"
     ]
    }
   ],
   "source": [
    "import os\n",
    "\n",
    "import pandas as pd\n",
    "from mistralai import Mistral\n",
    "os.environ[\"MISTRAL_API_KEY\"] = None\n",
    "api_key = os.environ[\"MISTRAL_API_KEY\"]\n",
    "model = \"mistral-large-latest\"\n",
    "client = Mistral(api_key=api_key)\n",
    "from src.mistral_trial import predict"
   ]
  },
  {
   "metadata": {
    "ExecuteTime": {
     "end_time": "2025-05-06T17:55:51.920008Z",
     "start_time": "2025-05-06T17:55:51.917495Z"
    }
   },
   "cell_type": "code",
   "source": [
    "import os\n",
    "import pandas as pd\n",
    "print(os.getcwd())\n",
    "import re\n",
    "import string\n",
    "from collections import defaultdict\n",
    "from src.utils_data import load_data\n"
   ],
   "id": "f59397df1ac4b337",
   "outputs": [
    {
     "name": "stdout",
     "output_type": "stream",
     "text": [
      "/home/waissa/recherche/projet\n"
     ]
    }
   ],
   "execution_count": 41
  },
  {
   "metadata": {
    "ExecuteTime": {
     "end_time": "2025-05-06T17:26:01.632681Z",
     "start_time": "2025-05-06T17:26:01.629872Z"
    }
   },
   "cell_type": "code",
   "source": [
    "labels = {'Mot difficile ou inconnu',\n",
    "          'Graphie, problème de déchiffrage',\n",
    "          'Figure de style, expression idiomatique',\n",
    "          'Référence culturelle difficile',\n",
    "          'Difficulté liée à la grammaire',\n",
    "          \"Trop d'informations secondaires\",\n",
    "          \"Indice de cohésion difficile\",\n",
    "          'Ordre syntaxique inhabituel',\n",
    "          #'Autre',\n",
    "}"
   ],
   "id": "ba95b7bf67cdbf4c",
   "outputs": [],
   "execution_count": 37
  },
  {
   "cell_type": "code",
   "id": "e44b6506-fd27-4bd1-b84b-126bc7c2408f",
   "metadata": {
    "ExecuteTime": {
     "end_time": "2025-05-06T17:25:19.409965Z",
     "start_time": "2025-05-06T17:25:19.345139Z"
    }
   },
   "source": [
    "global_df, local_df = load_data('.')"
   ],
   "outputs": [
    {
     "name": "stdout",
     "output_type": "stream",
     "text": [
      "Index(['text', 'annotations'], dtype='object')\n"
     ]
    }
   ],
   "execution_count": 28
  },
  {
   "metadata": {
    "ExecuteTime": {
     "end_time": "2025-05-06T17:25:21.062594Z",
     "start_time": "2025-05-06T17:25:21.059176Z"
    }
   },
   "cell_type": "code",
   "source": "global_df.count()",
   "id": "a0b5af8572c016b7",
   "outputs": [
    {
     "data": {
      "text/plain": [
       "text                   461\n",
       "gold_score_20_label    461\n",
       "classe                 461\n",
       "dtype: int64"
      ]
     },
     "execution_count": 29,
     "metadata": {},
     "output_type": "execute_result"
    }
   ],
   "execution_count": 29
  },
  {
   "cell_type": "code",
   "id": "c4e85941-14c2-4822-a18d-73819e5593be",
   "metadata": {
    "ExecuteTime": {
     "end_time": "2025-05-06T17:25:24.066145Z",
     "start_time": "2025-05-06T17:25:24.063041Z"
    }
   },
   "source": [
    "local_df = local_df.set_index('text_indice')"
   ],
   "outputs": [],
   "execution_count": 30
  },
  {
   "cell_type": "code",
   "id": "6ca4cf6e-f90a-4a88-98a9-db901518320d",
   "metadata": {
    "ExecuteTime": {
     "end_time": "2025-05-06T17:25:26.318392Z",
     "start_time": "2025-05-06T17:25:26.288534Z"
    }
   },
   "source": [
    "local_df"
   ],
   "outputs": [
    {
     "data": {
      "text/plain": [
       "                                                          text  \\\n",
       "text_indice                                                      \n",
       "422          « Sortir du syndrome Tarzan »    La brigade an...   \n",
       "1735         Les cultures en Afrique du Nord    Les trois p...   \n",
       "2084         Bienvenue à Gardanne    Gardanne est une ville...   \n",
       "438          Le 8 octobre c’est la première journée paralym...   \n",
       "133          Une destination à conseiller pour les vacances...   \n",
       "...                                                        ...   \n",
       "1181         Démonstration Ikebana    1 variation et 1 créa...   \n",
       "942          Une drôle de journée    Et me voilà repartie p...   \n",
       "172          L'adolescence ailleurs    En Amérique, en Asie...   \n",
       "664          Je l'aime à mourir    Moi je n'étais rien  Et ...   \n",
       "1763         Recette pour faire de l’eau aromatisée    Maté...   \n",
       "\n",
       "                                                   annotations  \\\n",
       "text_indice                                                      \n",
       "422          [{'text': 'collectif', 'start': 209, 'end': 21...   \n",
       "1735         [{'text': 'céréales', 'start': 388, 'end': 396...   \n",
       "2084         [{'text': 'département', 'start': 62, 'end': 7...   \n",
       "438          [{'text': 'Andrew Parsons,', 'start': 611, 'en...   \n",
       "133          [{'text': 'conseils', 'start': 644, 'end': 652...   \n",
       "...                                                        ...   \n",
       "1181         [{'text': 'Démonstration', 'start': 0, 'end': ...   \n",
       "942          [{'text': 'Flûte!', 'start': 792, 'end': 798, ...   \n",
       "172          [{'text': 'L'adolescence', 'start': 0, 'end': ...   \n",
       "664          [{'text': 'faire toutes les guerres', 'start':...   \n",
       "1763         [{'text': 'bol doseur', 'start': 56, 'end': 66...   \n",
       "\n",
       "            gold_score_20_label classe  \n",
       "text_indice                             \n",
       "422                  Accessible     B1  \n",
       "1735                     Facile     A2  \n",
       "2084                     Facile     A2  \n",
       "438                      Facile     A2  \n",
       "133                  Accessible     B1  \n",
       "...                         ...    ...  \n",
       "1181                     Facile     A2  \n",
       "942                      Facile     A2  \n",
       "172                      Facile     A2  \n",
       "664                  Accessible     B1  \n",
       "1763                     Facile     A2  \n",
       "\n",
       "[460 rows x 4 columns]"
      ],
      "text/html": [
       "<div>\n",
       "<style scoped>\n",
       "    .dataframe tbody tr th:only-of-type {\n",
       "        vertical-align: middle;\n",
       "    }\n",
       "\n",
       "    .dataframe tbody tr th {\n",
       "        vertical-align: top;\n",
       "    }\n",
       "\n",
       "    .dataframe thead th {\n",
       "        text-align: right;\n",
       "    }\n",
       "</style>\n",
       "<table border=\"1\" class=\"dataframe\">\n",
       "  <thead>\n",
       "    <tr style=\"text-align: right;\">\n",
       "      <th></th>\n",
       "      <th>text</th>\n",
       "      <th>annotations</th>\n",
       "      <th>gold_score_20_label</th>\n",
       "      <th>classe</th>\n",
       "    </tr>\n",
       "    <tr>\n",
       "      <th>text_indice</th>\n",
       "      <th></th>\n",
       "      <th></th>\n",
       "      <th></th>\n",
       "      <th></th>\n",
       "    </tr>\n",
       "  </thead>\n",
       "  <tbody>\n",
       "    <tr>\n",
       "      <th>422</th>\n",
       "      <td>« Sortir du syndrome Tarzan »    La brigade an...</td>\n",
       "      <td>[{'text': 'collectif', 'start': 209, 'end': 21...</td>\n",
       "      <td>Accessible</td>\n",
       "      <td>B1</td>\n",
       "    </tr>\n",
       "    <tr>\n",
       "      <th>1735</th>\n",
       "      <td>Les cultures en Afrique du Nord    Les trois p...</td>\n",
       "      <td>[{'text': 'céréales', 'start': 388, 'end': 396...</td>\n",
       "      <td>Facile</td>\n",
       "      <td>A2</td>\n",
       "    </tr>\n",
       "    <tr>\n",
       "      <th>2084</th>\n",
       "      <td>Bienvenue à Gardanne    Gardanne est une ville...</td>\n",
       "      <td>[{'text': 'département', 'start': 62, 'end': 7...</td>\n",
       "      <td>Facile</td>\n",
       "      <td>A2</td>\n",
       "    </tr>\n",
       "    <tr>\n",
       "      <th>438</th>\n",
       "      <td>Le 8 octobre c’est la première journée paralym...</td>\n",
       "      <td>[{'text': 'Andrew Parsons,', 'start': 611, 'en...</td>\n",
       "      <td>Facile</td>\n",
       "      <td>A2</td>\n",
       "    </tr>\n",
       "    <tr>\n",
       "      <th>133</th>\n",
       "      <td>Une destination à conseiller pour les vacances...</td>\n",
       "      <td>[{'text': 'conseils', 'start': 644, 'end': 652...</td>\n",
       "      <td>Accessible</td>\n",
       "      <td>B1</td>\n",
       "    </tr>\n",
       "    <tr>\n",
       "      <th>...</th>\n",
       "      <td>...</td>\n",
       "      <td>...</td>\n",
       "      <td>...</td>\n",
       "      <td>...</td>\n",
       "    </tr>\n",
       "    <tr>\n",
       "      <th>1181</th>\n",
       "      <td>Démonstration Ikebana    1 variation et 1 créa...</td>\n",
       "      <td>[{'text': 'Démonstration', 'start': 0, 'end': ...</td>\n",
       "      <td>Facile</td>\n",
       "      <td>A2</td>\n",
       "    </tr>\n",
       "    <tr>\n",
       "      <th>942</th>\n",
       "      <td>Une drôle de journée    Et me voilà repartie p...</td>\n",
       "      <td>[{'text': 'Flûte!', 'start': 792, 'end': 798, ...</td>\n",
       "      <td>Facile</td>\n",
       "      <td>A2</td>\n",
       "    </tr>\n",
       "    <tr>\n",
       "      <th>172</th>\n",
       "      <td>L'adolescence ailleurs    En Amérique, en Asie...</td>\n",
       "      <td>[{'text': 'L'adolescence', 'start': 0, 'end': ...</td>\n",
       "      <td>Facile</td>\n",
       "      <td>A2</td>\n",
       "    </tr>\n",
       "    <tr>\n",
       "      <th>664</th>\n",
       "      <td>Je l'aime à mourir    Moi je n'étais rien  Et ...</td>\n",
       "      <td>[{'text': 'faire toutes les guerres', 'start':...</td>\n",
       "      <td>Accessible</td>\n",
       "      <td>B1</td>\n",
       "    </tr>\n",
       "    <tr>\n",
       "      <th>1763</th>\n",
       "      <td>Recette pour faire de l’eau aromatisée    Maté...</td>\n",
       "      <td>[{'text': 'bol doseur', 'start': 56, 'end': 66...</td>\n",
       "      <td>Facile</td>\n",
       "      <td>A2</td>\n",
       "    </tr>\n",
       "  </tbody>\n",
       "</table>\n",
       "<p>460 rows × 4 columns</p>\n",
       "</div>"
      ]
     },
     "execution_count": 31,
     "metadata": {},
     "output_type": "execute_result"
    }
   ],
   "execution_count": 31
  },
  {
   "cell_type": "code",
   "id": "b1f1b5a7-d05a-4c2d-9c39-7d171571884b",
   "metadata": {
    "ExecuteTime": {
     "end_time": "2025-05-06T17:25:28.519156Z",
     "start_time": "2025-05-06T17:25:28.500480Z"
    }
   },
   "source": [
    "predictions_df = pd.read_csv('./src/predictions.csv', sep='\\t', index_col='text_indice')\n",
    "predictions_df"
   ],
   "outputs": [
    {
     "data": {
      "text/plain": [
       "                                                          text  \\\n",
       "text_indice                                                      \n",
       "422          « Sortir du syndrome Tarzan »    La brigade an...   \n",
       "1735         Les cultures en Afrique du Nord    Les trois p...   \n",
       "2084         Bienvenue à Gardanne    Gardanne est une ville...   \n",
       "438          Le 8 octobre c’est la première journée paralym...   \n",
       "133          Une destination à conseiller pour les vacances...   \n",
       "...                                                        ...   \n",
       "1181         Démonstration Ikebana    1 variation et 1 créa...   \n",
       "942          Une drôle de journée    Et me voilà repartie p...   \n",
       "172          L'adolescence ailleurs    En Amérique, en Asie...   \n",
       "664          Je l'aime à mourir    Moi je n'étais rien  Et ...   \n",
       "1763         Recette pour faire de l’eau aromatisée    Maté...   \n",
       "\n",
       "                                      Mot difficile ou inconnu  \\\n",
       "text_indice                                                      \n",
       "422          **négrophobie**\\n**collectif**\\n**antiraciste*...   \n",
       "1735         **Maghreb**\\n\\n**agrumes**\\n\\n**oliviers**\\n\\n...   \n",
       "2084             **[Autrefois]**\\n**[Journées du Patrimoine]**   \n",
       "438          **Paralympique**\\n**Comité**\\n**Olympiques**\\n...   \n",
       "133          **[carnaval de Notting Hill]**\\n**[sambas]**\\n...   \n",
       "...                                                        ...   \n",
       "1181         **Ikebana**\\n**ikebana**\\n**variation**\\n**Gra...   \n",
       "942          **chargée comme une mule**\\n**circulation**\\n*...   \n",
       "172          **initiation**\\n**archipel**\\n**cocotiers**\\n*...   \n",
       "664          **[gardien]**\\n**[cocottes en papier]**\\n**[op...   \n",
       "1763         **Matériel**\\n**cruche**\\n**brin**\\n**biologiq...   \n",
       "\n",
       "                              Graphie, problème de déchiffrage  \\\n",
       "text_indice                                                      \n",
       "422          **occupé**\\n**démission**\\n**Assemblée**\\n**Ma...   \n",
       "1735         **Maghreb**\\n**agrumes**\\n**oliviers**\\n**datt...   \n",
       "2084         **Bouches**\\n**Marché**\\n**Provençale**\\n**Sai...   \n",
       "438          **Paralympique**\\n**Paralympiques**\\n**Paralym...   \n",
       "133          **2000**\\n**Auteuil**\\n**Mortagneau-Perche**\\n...   \n",
       "...                                                        ...   \n",
       "1181         **VI°**\\n**Ikebana**\\n**ikebana**\\n**Sogetsu**...   \n",
       "942          **repairtie**\\n\\n**chargée**\\n\\n**envolé**\\n\\n...   \n",
       "172          **initiation**\\n**Comores**\\n**Madagascar**\\n*...   \n",
       "664          **mourir**\\n**aujourd'hui**\\n**gardien**\\n**qu...   \n",
       "1763         **millilitres**\\n**millilitres**\\n**écologique...   \n",
       "\n",
       "                       Figure de style, expression idiomatique  \\\n",
       "text_indice                                                      \n",
       "422          **[Sortir du syndrome Tarzan]**\\n**[le syndrom...   \n",
       "1735         **Plus on va vers**\\n**en raison du manque**\\n...   \n",
       "2084         **les hommes de Gardanne**\\n**la mine de Garda...   \n",
       "438          **donner rendez-vous**\\n**terrain de jeux**\\n*...   \n",
       "133          **[avoir l’occasion]**\\n**[un coin]**\\n**[circ...   \n",
       "...                                                        ...   \n",
       "1181         **faire vivre**\\n**donner une seconde vie**\\n*...   \n",
       "942          **chargée comme une mule**\\n**il ne s’était pa...   \n",
       "172          **marqué par**\\n**Perdu**\\n**choyée**\\n**convi...   \n",
       "664          **Je l'aime à mourir**\\n**Moi je n'étais rien*...   \n",
       "1763         **C’est mieux de**\\n**Mettre une étiquette sur...   \n",
       "\n",
       "                                Référence culturelle difficile  \\\n",
       "text_indice                                                      \n",
       "422          **Tarzan**\\n**Canal+**\\n**Marc Olivier Fogiel*...   \n",
       "1735                                               **Maghreb**   \n",
       "2084         **Bouches du Rhône**\\n**Mine de Gardanne**\\n**...   \n",
       "438          **[Bastille]**\\n**[Jeux Paralympiques]**\\n**[C...   \n",
       "133          **Perche**\\n**Mortagneau-Perche**\\n**gîte**\\n*...   \n",
       "...                                                        ...   \n",
       "1181         **Ikebana**\\n\\n**Sogetsu**\\n\\n**Hector Berlioz...   \n",
       "942                                         **comme une mule**   \n",
       "172                                   **Houtsimou**\\n**Masaï**   \n",
       "664                                         **Francis Cabrel**   \n",
       "1763                    **Le zéro déchet**\\n\\n**Esenca Liège**   \n",
       "\n",
       "                                Difficulté liée à la grammaire  \\\n",
       "text_indice                                                      \n",
       "422          **[Il] existe**\\n**[Puis il y a eu]**\\n**[Cela...   \n",
       "1735         **Plus on va**\\n**deviennent**\\n**en raison du...   \n",
       "2084              **travaillaient**\\n**n’existe**\\n**pourrez**   \n",
       "438          **A 2 ans**\\n**sera**\\n**Y aura**\\n**sera là**...   \n",
       "133          **À 1 h 30**\\n**n’avais jamais eu**\\n**pique-n...   \n",
       "...                                                        ...   \n",
       "1181         **Mardi 28 novembre à 18h30**\\n\\n**Conférence ...   \n",
       "942          **s’était envolé**\\n**s’était-il caché**\\n**me...   \n",
       "172          **est une étape essentielle**\\n**est encore ma...   \n",
       "664          **Je l'aime à mourir**\\n\\n**Moi je n'étais rie...   \n",
       "1763         **[C’est mieux de choisir]**\\n**[Ecraser]**\\n*...   \n",
       "\n",
       "                               Trop d'informations secondaires  \\\n",
       "text_indice                                                      \n",
       "422          **Qu'est-ce que la négrophobie?**  Tout ce qui...   \n",
       "1735         **quasiment**\\n\\n**Plus on va vers le sud, plu...   \n",
       "2084         **dans le département des Bouches du Rhône,**\\...   \n",
       "438          **[A 2 ans des Jeux Paralympiques de Paris 202...   \n",
       "133          **[un pique-nique organisé par des amis dans c...   \n",
       "...                                                        ...   \n",
       "1181         **Par Nicole Dineur, Grand Maître en ikebana, ...   \n",
       "942          **comme une mule**\\n**Il ne s’était pas envolé...   \n",
       "172          **En Amérique, en Asie, en Afrique, ou sur les...   \n",
       "664          **De la vie, et l'amour aussi**\\n**Et voilà qu...   \n",
       "1763         **Ingrédients pour l’été Juin à septembre**\\n\\...   \n",
       "\n",
       "                                  Indice de cohésion difficile  \\\n",
       "text_indice                                                      \n",
       "422          - **Il** existe depuis 2005.\\n- Puis **il** y ...   \n",
       "1735         - Plus **on** va vers le sud, plus les culture...   \n",
       "2084                                   - **Celle-ci**\\n- **A**   \n",
       "438          - le 8 octobre, **La place de la Bastille vous...   \n",
       "133          Une destination à conseiller pour les vacances...   \n",
       "...                                                        ...   \n",
       "1181         - Il existe 3 grandes écoles. **Lors de cette ...   \n",
       "942          Et me voilà repartie pour le supermarché! Je p...   \n",
       "172          - Dans de nombreux pays, **ce** passage est en...   \n",
       "664          Moi je n'étais rien\\n Et voilà qu'aujourd'hui\\...   \n",
       "1763         - 1 étiquette\\n- C’est mieux de choisir des fr...   \n",
       "\n",
       "                                   Ordre syntaxique inhabituel  \n",
       "text_indice                                                     \n",
       "422          **Pourquoi les Noirs et les Arabes sont plus t...  \n",
       "1735         **Plus on va vers le sud**\\n**Ainsi, en Algéri...  \n",
       "2084         **Autrefois, les hommes de Gardanne travaillai...  \n",
       "438          **Le 8 octobre c’est la première journée paral...  \n",
       "133          **À 1 h 30 de Paris, le Perche est une bonne d...  \n",
       "...                                                        ...  \n",
       "1181         **arrivant au Japon de Chine par un moine japo...  \n",
       "942          **Et me voilà repartie pour le supermarché!**\\...  \n",
       "172          **Perdu dans l'océan Indien, entre Madagascar ...  \n",
       "664          **Et voilà qu'aujourd'hui**\\n**Et voilà qu'auj...  \n",
       "1763         **C’est mieux de choisir des fruits et légumes...  \n",
       "\n",
       "[461 rows x 9 columns]"
      ],
      "text/html": [
       "<div>\n",
       "<style scoped>\n",
       "    .dataframe tbody tr th:only-of-type {\n",
       "        vertical-align: middle;\n",
       "    }\n",
       "\n",
       "    .dataframe tbody tr th {\n",
       "        vertical-align: top;\n",
       "    }\n",
       "\n",
       "    .dataframe thead th {\n",
       "        text-align: right;\n",
       "    }\n",
       "</style>\n",
       "<table border=\"1\" class=\"dataframe\">\n",
       "  <thead>\n",
       "    <tr style=\"text-align: right;\">\n",
       "      <th></th>\n",
       "      <th>text</th>\n",
       "      <th>Mot difficile ou inconnu</th>\n",
       "      <th>Graphie, problème de déchiffrage</th>\n",
       "      <th>Figure de style, expression idiomatique</th>\n",
       "      <th>Référence culturelle difficile</th>\n",
       "      <th>Difficulté liée à la grammaire</th>\n",
       "      <th>Trop d'informations secondaires</th>\n",
       "      <th>Indice de cohésion difficile</th>\n",
       "      <th>Ordre syntaxique inhabituel</th>\n",
       "    </tr>\n",
       "    <tr>\n",
       "      <th>text_indice</th>\n",
       "      <th></th>\n",
       "      <th></th>\n",
       "      <th></th>\n",
       "      <th></th>\n",
       "      <th></th>\n",
       "      <th></th>\n",
       "      <th></th>\n",
       "      <th></th>\n",
       "      <th></th>\n",
       "    </tr>\n",
       "  </thead>\n",
       "  <tbody>\n",
       "    <tr>\n",
       "      <th>422</th>\n",
       "      <td>« Sortir du syndrome Tarzan »    La brigade an...</td>\n",
       "      <td>**négrophobie**\\n**collectif**\\n**antiraciste*...</td>\n",
       "      <td>**occupé**\\n**démission**\\n**Assemblée**\\n**Ma...</td>\n",
       "      <td>**[Sortir du syndrome Tarzan]**\\n**[le syndrom...</td>\n",
       "      <td>**Tarzan**\\n**Canal+**\\n**Marc Olivier Fogiel*...</td>\n",
       "      <td>**[Il] existe**\\n**[Puis il y a eu]**\\n**[Cela...</td>\n",
       "      <td>**Qu'est-ce que la négrophobie?**  Tout ce qui...</td>\n",
       "      <td>- **Il** existe depuis 2005.\\n- Puis **il** y ...</td>\n",
       "      <td>**Pourquoi les Noirs et les Arabes sont plus t...</td>\n",
       "    </tr>\n",
       "    <tr>\n",
       "      <th>1735</th>\n",
       "      <td>Les cultures en Afrique du Nord    Les trois p...</td>\n",
       "      <td>**Maghreb**\\n\\n**agrumes**\\n\\n**oliviers**\\n\\n...</td>\n",
       "      <td>**Maghreb**\\n**agrumes**\\n**oliviers**\\n**datt...</td>\n",
       "      <td>**Plus on va vers**\\n**en raison du manque**\\n...</td>\n",
       "      <td>**Maghreb**</td>\n",
       "      <td>**Plus on va**\\n**deviennent**\\n**en raison du...</td>\n",
       "      <td>**quasiment**\\n\\n**Plus on va vers le sud, plu...</td>\n",
       "      <td>- Plus **on** va vers le sud, plus les culture...</td>\n",
       "      <td>**Plus on va vers le sud**\\n**Ainsi, en Algéri...</td>\n",
       "    </tr>\n",
       "    <tr>\n",
       "      <th>2084</th>\n",
       "      <td>Bienvenue à Gardanne    Gardanne est une ville...</td>\n",
       "      <td>**[Autrefois]**\\n**[Journées du Patrimoine]**</td>\n",
       "      <td>**Bouches**\\n**Marché**\\n**Provençale**\\n**Sai...</td>\n",
       "      <td>**les hommes de Gardanne**\\n**la mine de Garda...</td>\n",
       "      <td>**Bouches du Rhône**\\n**Mine de Gardanne**\\n**...</td>\n",
       "      <td>**travaillaient**\\n**n’existe**\\n**pourrez**</td>\n",
       "      <td>**dans le département des Bouches du Rhône,**\\...</td>\n",
       "      <td>- **Celle-ci**\\n- **A**</td>\n",
       "      <td>**Autrefois, les hommes de Gardanne travaillai...</td>\n",
       "    </tr>\n",
       "    <tr>\n",
       "      <th>438</th>\n",
       "      <td>Le 8 octobre c’est la première journée paralym...</td>\n",
       "      <td>**Paralympique**\\n**Comité**\\n**Olympiques**\\n...</td>\n",
       "      <td>**Paralympique**\\n**Paralympiques**\\n**Paralym...</td>\n",
       "      <td>**donner rendez-vous**\\n**terrain de jeux**\\n*...</td>\n",
       "      <td>**[Bastille]**\\n**[Jeux Paralympiques]**\\n**[C...</td>\n",
       "      <td>**A 2 ans**\\n**sera**\\n**Y aura**\\n**sera là**...</td>\n",
       "      <td>**[A 2 ans des Jeux Paralympiques de Paris 202...</td>\n",
       "      <td>- le 8 octobre, **La place de la Bastille vous...</td>\n",
       "      <td>**Le 8 octobre c’est la première journée paral...</td>\n",
       "    </tr>\n",
       "    <tr>\n",
       "      <th>133</th>\n",
       "      <td>Une destination à conseiller pour les vacances...</td>\n",
       "      <td>**[carnaval de Notting Hill]**\\n**[sambas]**\\n...</td>\n",
       "      <td>**2000**\\n**Auteuil**\\n**Mortagneau-Perche**\\n...</td>\n",
       "      <td>**[avoir l’occasion]**\\n**[un coin]**\\n**[circ...</td>\n",
       "      <td>**Perche**\\n**Mortagneau-Perche**\\n**gîte**\\n*...</td>\n",
       "      <td>**À 1 h 30**\\n**n’avais jamais eu**\\n**pique-n...</td>\n",
       "      <td>**[un pique-nique organisé par des amis dans c...</td>\n",
       "      <td>Une destination à conseiller pour les vacances...</td>\n",
       "      <td>**À 1 h 30 de Paris, le Perche est une bonne d...</td>\n",
       "    </tr>\n",
       "    <tr>\n",
       "      <th>...</th>\n",
       "      <td>...</td>\n",
       "      <td>...</td>\n",
       "      <td>...</td>\n",
       "      <td>...</td>\n",
       "      <td>...</td>\n",
       "      <td>...</td>\n",
       "      <td>...</td>\n",
       "      <td>...</td>\n",
       "      <td>...</td>\n",
       "    </tr>\n",
       "    <tr>\n",
       "      <th>1181</th>\n",
       "      <td>Démonstration Ikebana    1 variation et 1 créa...</td>\n",
       "      <td>**Ikebana**\\n**ikebana**\\n**variation**\\n**Gra...</td>\n",
       "      <td>**VI°**\\n**Ikebana**\\n**ikebana**\\n**Sogetsu**...</td>\n",
       "      <td>**faire vivre**\\n**donner une seconde vie**\\n*...</td>\n",
       "      <td>**Ikebana**\\n\\n**Sogetsu**\\n\\n**Hector Berlioz...</td>\n",
       "      <td>**Mardi 28 novembre à 18h30**\\n\\n**Conférence ...</td>\n",
       "      <td>**Par Nicole Dineur, Grand Maître en ikebana, ...</td>\n",
       "      <td>- Il existe 3 grandes écoles. **Lors de cette ...</td>\n",
       "      <td>**arrivant au Japon de Chine par un moine japo...</td>\n",
       "    </tr>\n",
       "    <tr>\n",
       "      <th>942</th>\n",
       "      <td>Une drôle de journée    Et me voilà repartie p...</td>\n",
       "      <td>**chargée comme une mule**\\n**circulation**\\n*...</td>\n",
       "      <td>**repairtie**\\n\\n**chargée**\\n\\n**envolé**\\n\\n...</td>\n",
       "      <td>**chargée comme une mule**\\n**il ne s’était pa...</td>\n",
       "      <td>**comme une mule**</td>\n",
       "      <td>**s’était envolé**\\n**s’était-il caché**\\n**me...</td>\n",
       "      <td>**comme une mule**\\n**Il ne s’était pas envolé...</td>\n",
       "      <td>Et me voilà repartie pour le supermarché! Je p...</td>\n",
       "      <td>**Et me voilà repartie pour le supermarché!**\\...</td>\n",
       "    </tr>\n",
       "    <tr>\n",
       "      <th>172</th>\n",
       "      <td>L'adolescence ailleurs    En Amérique, en Asie...</td>\n",
       "      <td>**initiation**\\n**archipel**\\n**cocotiers**\\n*...</td>\n",
       "      <td>**initiation**\\n**Comores**\\n**Madagascar**\\n*...</td>\n",
       "      <td>**marqué par**\\n**Perdu**\\n**choyée**\\n**convi...</td>\n",
       "      <td>**Houtsimou**\\n**Masaï**</td>\n",
       "      <td>**est une étape essentielle**\\n**est encore ma...</td>\n",
       "      <td>**En Amérique, en Asie, en Afrique, ou sur les...</td>\n",
       "      <td>- Dans de nombreux pays, **ce** passage est en...</td>\n",
       "      <td>**Perdu dans l'océan Indien, entre Madagascar ...</td>\n",
       "    </tr>\n",
       "    <tr>\n",
       "      <th>664</th>\n",
       "      <td>Je l'aime à mourir    Moi je n'étais rien  Et ...</td>\n",
       "      <td>**[gardien]**\\n**[cocottes en papier]**\\n**[op...</td>\n",
       "      <td>**mourir**\\n**aujourd'hui**\\n**gardien**\\n**qu...</td>\n",
       "      <td>**Je l'aime à mourir**\\n**Moi je n'étais rien*...</td>\n",
       "      <td>**Francis Cabrel**</td>\n",
       "      <td>**Je l'aime à mourir**\\n\\n**Moi je n'étais rie...</td>\n",
       "      <td>**De la vie, et l'amour aussi**\\n**Et voilà qu...</td>\n",
       "      <td>Moi je n'étais rien\\n Et voilà qu'aujourd'hui\\...</td>\n",
       "      <td>**Et voilà qu'aujourd'hui**\\n**Et voilà qu'auj...</td>\n",
       "    </tr>\n",
       "    <tr>\n",
       "      <th>1763</th>\n",
       "      <td>Recette pour faire de l’eau aromatisée    Maté...</td>\n",
       "      <td>**Matériel**\\n**cruche**\\n**brin**\\n**biologiq...</td>\n",
       "      <td>**millilitres**\\n**millilitres**\\n**écologique...</td>\n",
       "      <td>**C’est mieux de**\\n**Mettre une étiquette sur...</td>\n",
       "      <td>**Le zéro déchet**\\n\\n**Esenca Liège**</td>\n",
       "      <td>**[C’est mieux de choisir]**\\n**[Ecraser]**\\n*...</td>\n",
       "      <td>**Ingrédients pour l’été Juin à septembre**\\n\\...</td>\n",
       "      <td>- 1 étiquette\\n- C’est mieux de choisir des fr...</td>\n",
       "      <td>**C’est mieux de choisir des fruits et légumes...</td>\n",
       "    </tr>\n",
       "  </tbody>\n",
       "</table>\n",
       "<p>461 rows × 9 columns</p>\n",
       "</div>"
      ]
     },
     "execution_count": 32,
     "metadata": {},
     "output_type": "execute_result"
    }
   ],
   "execution_count": 32
  },
  {
   "metadata": {
    "ExecuteTime": {
     "end_time": "2025-05-06T17:25:32.341393Z",
     "start_time": "2025-05-06T17:25:31.740712Z"
    }
   },
   "cell_type": "code",
   "source": [
    "annotations_completes = pd.read_excel('./annotations_completes.xlsx')\n",
    "annotations_completes['TermLabel'].value_counts()"
   ],
   "id": "cd8ae3a2479b8867",
   "outputs": [
    {
     "data": {
      "text/plain": [
       "TermLabel\n",
       "Mot difficile ou inconnu                                        4310\n",
       "Graphie, problème de déchiffrage                                2128\n",
       "Figure de style, expression idiomatique                          914\n",
       "Référence culturelle difficile                                   790\n",
       "Indice de cohésion difficile (connecteur, pronom, inférence)     734\n",
       "Ordre syntaxique inhabituel                                      561\n",
       "Difficulté liée à la grammaire                                   469\n",
       "Trop d'informations secondaires                                  371\n",
       "Autre                                                            182\n",
       "Name: count, dtype: int64"
      ]
     },
     "execution_count": 33,
     "metadata": {},
     "output_type": "execute_result"
    }
   ],
   "execution_count": 33
  },
  {
   "metadata": {
    "ExecuteTime": {
     "end_time": "2025-05-06T17:25:45.107862Z",
     "start_time": "2025-05-06T17:25:45.072679Z"
    }
   },
   "cell_type": "code",
   "source": [
    "from collections import Counter\n",
    "\n",
    "annotations = pd.read_json('annotations.json')\n",
    "label_counter = Counter()\n",
    "\n",
    "for i, row in annotations.iterrows():\n",
    "    for a in row['annotations']:\n",
    "        label_counter[a['label']] += 1\n",
    "\n",
    "print(label_counter)"
   ],
   "id": "a7dff3d482579b6d",
   "outputs": [
    {
     "name": "stdout",
     "output_type": "stream",
     "text": [
      "Counter({'Mot difficile ou inconnu': 3321, 'Graphie, problème de déchiffrage': 1905, 'Figure de style, expression idiomatique': 858, 'Référence culturelle difficile': 729, 'Indice de cohésion difficile (connecteur, pronom, inférence)': 671, 'Ordre syntaxique inhabituel': 553, 'Difficulté liée à la grammaire': 418, \"Trop d'informations secondaires\": 362, 'Autre': 168})\n"
     ]
    }
   ],
   "execution_count": 35
  },
  {
   "metadata": {},
   "cell_type": "code",
   "source": [
    "no_annotations = []\n",
    "for i, row in predictions_df.iterrows():\n",
    "    if i not in local_df.index:\n",
    "        no_annotations.append(i)\n",
    "    else:\n",
    "        for label in labels:\n",
    "            print(i, local_df.loc[i]['classe'], label)\n",
    "            text = row[label]\n",
    "            matches = re.findall(r\"\\*\\*(.*?)\\*\\*\", text)\n",
    "            cleaned = [re.sub(rf\"[\\[\\]{re.escape(string.punctuation)}]\", \"\", m).strip() for m in matches]\n",
    "            print(\"prediciton\", cleaned)\n",
    "            print(\"annotations\", [e['text'] for e in local_df.loc[i]['annotations'] if e['label']==label])\n"
   ],
   "id": "1b2d7745-ff75-41c9-a3cf-8fb1a1faf10d",
   "outputs": [],
   "execution_count": null
  },
  {
   "metadata": {
    "ExecuteTime": {
     "end_time": "2025-05-06T18:11:20.138762Z",
     "start_time": "2025-05-06T18:11:20.111196Z"
    }
   },
   "cell_type": "code",
   "source": "local_df",
   "id": "5efe6f18c0aba1ed",
   "outputs": [
    {
     "data": {
      "text/plain": [
       "                                                          text  \\\n",
       "text_indice                                                      \n",
       "422          « Sortir du syndrome Tarzan »    La brigade an...   \n",
       "1735         Les cultures en Afrique du Nord    Les trois p...   \n",
       "2084         Bienvenue à Gardanne    Gardanne est une ville...   \n",
       "438          Le 8 octobre c’est la première journée paralym...   \n",
       "133          Une destination à conseiller pour les vacances...   \n",
       "...                                                        ...   \n",
       "1181         Démonstration Ikebana    1 variation et 1 créa...   \n",
       "942          Une drôle de journée    Et me voilà repartie p...   \n",
       "172          L'adolescence ailleurs    En Amérique, en Asie...   \n",
       "664          Je l'aime à mourir    Moi je n'étais rien  Et ...   \n",
       "1763         Recette pour faire de l’eau aromatisée    Maté...   \n",
       "\n",
       "                                                   annotations  \\\n",
       "text_indice                                                      \n",
       "422          [{'text': 'collectif', 'start': 209, 'end': 21...   \n",
       "1735         [{'text': 'céréales', 'start': 388, 'end': 396...   \n",
       "2084         [{'text': 'département', 'start': 62, 'end': 7...   \n",
       "438          [{'text': 'Andrew Parsons,', 'start': 611, 'en...   \n",
       "133          [{'text': 'conseils', 'start': 644, 'end': 652...   \n",
       "...                                                        ...   \n",
       "1181         [{'text': 'Démonstration', 'start': 0, 'end': ...   \n",
       "942          [{'text': 'Flûte!', 'start': 792, 'end': 798, ...   \n",
       "172          [{'text': 'L'adolescence', 'start': 0, 'end': ...   \n",
       "664          [{'text': 'faire toutes les guerres', 'start':...   \n",
       "1763         [{'text': 'bol doseur', 'start': 56, 'end': 66...   \n",
       "\n",
       "            gold_score_20_label classe  \n",
       "text_indice                             \n",
       "422                  Accessible     B1  \n",
       "1735                     Facile     A2  \n",
       "2084                     Facile     A2  \n",
       "438                      Facile     A2  \n",
       "133                  Accessible     B1  \n",
       "...                         ...    ...  \n",
       "1181                     Facile     A2  \n",
       "942                      Facile     A2  \n",
       "172                      Facile     A2  \n",
       "664                  Accessible     B1  \n",
       "1763                     Facile     A2  \n",
       "\n",
       "[460 rows x 4 columns]"
      ],
      "text/html": [
       "<div>\n",
       "<style scoped>\n",
       "    .dataframe tbody tr th:only-of-type {\n",
       "        vertical-align: middle;\n",
       "    }\n",
       "\n",
       "    .dataframe tbody tr th {\n",
       "        vertical-align: top;\n",
       "    }\n",
       "\n",
       "    .dataframe thead th {\n",
       "        text-align: right;\n",
       "    }\n",
       "</style>\n",
       "<table border=\"1\" class=\"dataframe\">\n",
       "  <thead>\n",
       "    <tr style=\"text-align: right;\">\n",
       "      <th></th>\n",
       "      <th>text</th>\n",
       "      <th>annotations</th>\n",
       "      <th>gold_score_20_label</th>\n",
       "      <th>classe</th>\n",
       "    </tr>\n",
       "    <tr>\n",
       "      <th>text_indice</th>\n",
       "      <th></th>\n",
       "      <th></th>\n",
       "      <th></th>\n",
       "      <th></th>\n",
       "    </tr>\n",
       "  </thead>\n",
       "  <tbody>\n",
       "    <tr>\n",
       "      <th>422</th>\n",
       "      <td>« Sortir du syndrome Tarzan »    La brigade an...</td>\n",
       "      <td>[{'text': 'collectif', 'start': 209, 'end': 21...</td>\n",
       "      <td>Accessible</td>\n",
       "      <td>B1</td>\n",
       "    </tr>\n",
       "    <tr>\n",
       "      <th>1735</th>\n",
       "      <td>Les cultures en Afrique du Nord    Les trois p...</td>\n",
       "      <td>[{'text': 'céréales', 'start': 388, 'end': 396...</td>\n",
       "      <td>Facile</td>\n",
       "      <td>A2</td>\n",
       "    </tr>\n",
       "    <tr>\n",
       "      <th>2084</th>\n",
       "      <td>Bienvenue à Gardanne    Gardanne est une ville...</td>\n",
       "      <td>[{'text': 'département', 'start': 62, 'end': 7...</td>\n",
       "      <td>Facile</td>\n",
       "      <td>A2</td>\n",
       "    </tr>\n",
       "    <tr>\n",
       "      <th>438</th>\n",
       "      <td>Le 8 octobre c’est la première journée paralym...</td>\n",
       "      <td>[{'text': 'Andrew Parsons,', 'start': 611, 'en...</td>\n",
       "      <td>Facile</td>\n",
       "      <td>A2</td>\n",
       "    </tr>\n",
       "    <tr>\n",
       "      <th>133</th>\n",
       "      <td>Une destination à conseiller pour les vacances...</td>\n",
       "      <td>[{'text': 'conseils', 'start': 644, 'end': 652...</td>\n",
       "      <td>Accessible</td>\n",
       "      <td>B1</td>\n",
       "    </tr>\n",
       "    <tr>\n",
       "      <th>...</th>\n",
       "      <td>...</td>\n",
       "      <td>...</td>\n",
       "      <td>...</td>\n",
       "      <td>...</td>\n",
       "    </tr>\n",
       "    <tr>\n",
       "      <th>1181</th>\n",
       "      <td>Démonstration Ikebana    1 variation et 1 créa...</td>\n",
       "      <td>[{'text': 'Démonstration', 'start': 0, 'end': ...</td>\n",
       "      <td>Facile</td>\n",
       "      <td>A2</td>\n",
       "    </tr>\n",
       "    <tr>\n",
       "      <th>942</th>\n",
       "      <td>Une drôle de journée    Et me voilà repartie p...</td>\n",
       "      <td>[{'text': 'Flûte!', 'start': 792, 'end': 798, ...</td>\n",
       "      <td>Facile</td>\n",
       "      <td>A2</td>\n",
       "    </tr>\n",
       "    <tr>\n",
       "      <th>172</th>\n",
       "      <td>L'adolescence ailleurs    En Amérique, en Asie...</td>\n",
       "      <td>[{'text': 'L'adolescence', 'start': 0, 'end': ...</td>\n",
       "      <td>Facile</td>\n",
       "      <td>A2</td>\n",
       "    </tr>\n",
       "    <tr>\n",
       "      <th>664</th>\n",
       "      <td>Je l'aime à mourir    Moi je n'étais rien  Et ...</td>\n",
       "      <td>[{'text': 'faire toutes les guerres', 'start':...</td>\n",
       "      <td>Accessible</td>\n",
       "      <td>B1</td>\n",
       "    </tr>\n",
       "    <tr>\n",
       "      <th>1763</th>\n",
       "      <td>Recette pour faire de l’eau aromatisée    Maté...</td>\n",
       "      <td>[{'text': 'bol doseur', 'start': 56, 'end': 66...</td>\n",
       "      <td>Facile</td>\n",
       "      <td>A2</td>\n",
       "    </tr>\n",
       "  </tbody>\n",
       "</table>\n",
       "<p>460 rows × 4 columns</p>\n",
       "</div>"
      ]
     },
     "execution_count": 45,
     "metadata": {},
     "output_type": "execute_result"
    }
   ],
   "execution_count": 45
  },
  {
   "metadata": {
    "ExecuteTime": {
     "end_time": "2025-05-06T18:31:20.681925Z",
     "start_time": "2025-05-06T18:31:20.597094Z"
    }
   },
   "cell_type": "code",
   "source": "results, no_annotations = compute_micro_per_class_metrics(predictions_df, local_df, labels)",
   "id": "7f8d852df8fa4e4d",
   "outputs": [],
   "execution_count": 57
  },
  {
   "metadata": {
    "ExecuteTime": {
     "end_time": "2025-05-06T18:24:56.349329Z",
     "start_time": "2025-05-06T18:24:56.257892Z"
    }
   },
   "cell_type": "code",
   "source": "results, no_annotations = compute_macro_per_class_metrics(predictions_df, local_df, labels)",
   "id": "abdb3475a09b12ce",
   "outputs": [],
   "execution_count": 55
  },
  {
   "metadata": {
    "ExecuteTime": {
     "end_time": "2025-05-06T18:20:40.558415Z",
     "start_time": "2025-05-06T18:20:40.553622Z"
    }
   },
   "cell_type": "code",
   "source": [
    "import re\n",
    "import string\n",
    "from collections import defaultdict\n",
    "\n",
    "def compute_micro_per_class_metrics(predictions_df, annotation_df, labels):\n",
    "    \"\"\"\n",
    "    Compute precision, recall, and F1 per label, grouped by the 'classe' column of annotation_df.\n",
    "\n",
    "    Args:\n",
    "        predictions_df: DataFrame with predicted Markdown text per label.\n",
    "        annotation_df: DataFrame with 'classe' and 'annotations' columns.\n",
    "        labels: list of label types (e.g., ['date', 'location']).\n",
    "\n",
    "    Returns:\n",
    "        metrics: dict[class][label] = {Precision, Recall, F1, TP, FP, FN}\n",
    "        no_annotations: list of example indices missing in annotation_df\n",
    "    \"\"\"\n",
    "    metrics_per_class = defaultdict(lambda: defaultdict(lambda: {'TP': 0, 'FP': 0, 'FN': 0}))\n",
    "    no_annotations = []\n",
    "\n",
    "    for i, row in predictions_df.iterrows():\n",
    "        if i not in annotation_df.index:\n",
    "            no_annotations.append(i)\n",
    "            continue\n",
    "\n",
    "        true_class = annotation_df.loc[i]['classe']\n",
    "        annotations = annotation_df.loc[i]['annotations']\n",
    "\n",
    "        for label in labels:\n",
    "            # Extract predicted parts (bolded using **)\n",
    "            pred_text = row.get(label, \"\")\n",
    "            matches = re.findall(r\"\\*\\*(.*?)\\*\\*\", pred_text)\n",
    "            pred_parts = [re.sub(rf\"[\\[\\]{re.escape(string.punctuation)}]\", \"\", m).strip() for m in matches]\n",
    "\n",
    "            # Extract ground truth parts for this label\n",
    "            gt_parts = [a['text'] for a in annotations if a['label'] == label]\n",
    "\n",
    "            pred_set = set(pred_parts)\n",
    "            gt_set = set(gt_parts)\n",
    "\n",
    "            tp = len(pred_set & gt_set)\n",
    "            fp = len(pred_set - gt_set)\n",
    "            fn = len(gt_set - pred_set)\n",
    "\n",
    "            counts = metrics_per_class[true_class][label]\n",
    "            counts['TP'] += tp\n",
    "            counts['FP'] += fp\n",
    "            counts['FN'] += fn\n",
    "\n",
    "    # Compute metrics\n",
    "    results = {}\n",
    "    for cls, label_dict in metrics_per_class.items():\n",
    "        results[cls] = {}\n",
    "        for label, counts in label_dict.items():\n",
    "            tp, fp, fn = counts['TP'], counts['FP'], counts['FN']\n",
    "            precision = tp / (tp + fp) if (tp + fp) else 0.0\n",
    "            recall = tp / (tp + fn) if (tp + fn) else 0.0\n",
    "            f1 = 2 * precision * recall / (precision + recall) if (precision + recall) else 0.0\n",
    "\n",
    "            results[cls][label] = {\n",
    "                'Precision': precision,\n",
    "                'Recall': recall,\n",
    "                'F1 Score': f1,\n",
    "                #'TP': tp,\n",
    "                #'FP': fp,\n",
    "                #'FN': fn\n",
    "            }\n",
    "\n",
    "    return results, no_annotations\n"
   ],
   "id": "46c08f92f65bf6d9",
   "outputs": [],
   "execution_count": 49
  },
  {
   "metadata": {
    "ExecuteTime": {
     "end_time": "2025-05-06T18:24:35.788498Z",
     "start_time": "2025-05-06T18:24:35.785903Z"
    }
   },
   "cell_type": "code",
   "source": [
    "def results_dict_to_df(results):\n",
    "    rows = []\n",
    "    for cls, label_dict in results.items():\n",
    "        for label, metrics in label_dict.items():\n",
    "            row = {\n",
    "                'Class': cls,\n",
    "                'Label': label,\n",
    "                'Precision': metrics['Precision'],\n",
    "                'Recall': metrics['Recall'],\n",
    "                'F1 Score': metrics['F1 Score'],\n",
    "            }\n",
    "            rows.append(row)\n",
    "    return pd.DataFrame(rows)"
   ],
   "id": "1e13ddd316948a72",
   "outputs": [],
   "execution_count": 53
  },
  {
   "metadata": {
    "ExecuteTime": {
     "end_time": "2025-05-06T18:31:25.575035Z",
     "start_time": "2025-05-06T18:31:25.561769Z"
    }
   },
   "cell_type": "code",
   "source": "results_dict_to_df(results)",
   "id": "a4a5e5fe85b584dc",
   "outputs": [
    {
     "data": {
      "text/plain": [
       "   Class                                    Label  Precision    Recall  \\\n",
       "0     B1         Graphie, problème de déchiffrage   0.046144  0.091864   \n",
       "1     B1                 Mot difficile ou inconnu   0.177859  0.185449   \n",
       "2     B1  Figure de style, expression idiomatique   0.026734  0.063492   \n",
       "3     B1              Ordre syntaxique inhabituel   0.004412  0.009772   \n",
       "4     B1           Référence culturelle difficile   0.070323  0.132979   \n",
       "5     B1           Difficulté liée à la grammaire   0.018309  0.221774   \n",
       "6     B1             Indice de cohésion difficile   0.000000  0.000000   \n",
       "7     B1          Trop d'informations secondaires   0.003195  0.029703   \n",
       "8     A2         Graphie, problème de déchiffrage   0.066474  0.145877   \n",
       "9     A2                 Mot difficile ou inconnu   0.126008  0.248262   \n",
       "10    A2  Figure de style, expression idiomatique   0.005599  0.024876   \n",
       "11    A2              Ordre syntaxique inhabituel   0.000000  0.000000   \n",
       "12    A2           Référence culturelle difficile   0.064263  0.154717   \n",
       "13    A2           Difficulté liée à la grammaire   0.008328  0.252336   \n",
       "14    A2             Indice de cohésion difficile   0.000000  0.000000   \n",
       "15    A2          Trop d'informations secondaires   0.001083  0.021277   \n",
       "16    B2         Graphie, problème de déchiffrage   0.042373  0.159574   \n",
       "17    B2                 Mot difficile ou inconnu   0.224852  0.167770   \n",
       "18    B2  Figure de style, expression idiomatique   0.041152  0.065359   \n",
       "19    B2              Ordre syntaxique inhabituel   0.000000  0.000000   \n",
       "20    B2           Référence culturelle difficile   0.067901  0.141026   \n",
       "21    B2           Difficulté liée à la grammaire   0.011312  0.084746   \n",
       "22    B2             Indice de cohésion difficile   0.000000  0.000000   \n",
       "23    B2          Trop d'informations secondaires   0.000000  0.000000   \n",
       "24    A1         Graphie, problème de déchiffrage   0.114458  0.211111   \n",
       "25    A1                 Mot difficile ou inconnu   0.072289  0.260870   \n",
       "26    A1  Figure de style, expression idiomatique   0.000000  0.000000   \n",
       "27    A1              Ordre syntaxique inhabituel   0.000000  0.000000   \n",
       "28    A1           Référence culturelle difficile   0.057143  0.222222   \n",
       "29    A1           Difficulté liée à la grammaire   0.007353  0.333333   \n",
       "30    A1             Indice de cohésion difficile   0.000000  0.000000   \n",
       "31    A1          Trop d'informations secondaires   0.000000  0.000000   \n",
       "\n",
       "    F1 Score  \n",
       "0   0.061430  \n",
       "1   0.181575  \n",
       "2   0.037625  \n",
       "3   0.006079  \n",
       "4   0.091996  \n",
       "5   0.033825  \n",
       "6   0.000000  \n",
       "7   0.005769  \n",
       "8   0.091330  \n",
       "9   0.167168  \n",
       "10  0.009141  \n",
       "11  0.000000  \n",
       "12  0.090808  \n",
       "13  0.016124  \n",
       "14  0.000000  \n",
       "15  0.002062  \n",
       "16  0.066964  \n",
       "17  0.192162  \n",
       "18  0.050505  \n",
       "19  0.000000  \n",
       "20  0.091667  \n",
       "21  0.019960  \n",
       "22  0.000000  \n",
       "23  0.000000  \n",
       "24  0.148437  \n",
       "25  0.113208  \n",
       "26  0.000000  \n",
       "27  0.000000  \n",
       "28  0.090909  \n",
       "29  0.014388  \n",
       "30  0.000000  \n",
       "31  0.000000  "
      ],
      "text/html": [
       "<div>\n",
       "<style scoped>\n",
       "    .dataframe tbody tr th:only-of-type {\n",
       "        vertical-align: middle;\n",
       "    }\n",
       "\n",
       "    .dataframe tbody tr th {\n",
       "        vertical-align: top;\n",
       "    }\n",
       "\n",
       "    .dataframe thead th {\n",
       "        text-align: right;\n",
       "    }\n",
       "</style>\n",
       "<table border=\"1\" class=\"dataframe\">\n",
       "  <thead>\n",
       "    <tr style=\"text-align: right;\">\n",
       "      <th></th>\n",
       "      <th>Class</th>\n",
       "      <th>Label</th>\n",
       "      <th>Precision</th>\n",
       "      <th>Recall</th>\n",
       "      <th>F1 Score</th>\n",
       "    </tr>\n",
       "  </thead>\n",
       "  <tbody>\n",
       "    <tr>\n",
       "      <th>0</th>\n",
       "      <td>B1</td>\n",
       "      <td>Graphie, problème de déchiffrage</td>\n",
       "      <td>0.046144</td>\n",
       "      <td>0.091864</td>\n",
       "      <td>0.061430</td>\n",
       "    </tr>\n",
       "    <tr>\n",
       "      <th>1</th>\n",
       "      <td>B1</td>\n",
       "      <td>Mot difficile ou inconnu</td>\n",
       "      <td>0.177859</td>\n",
       "      <td>0.185449</td>\n",
       "      <td>0.181575</td>\n",
       "    </tr>\n",
       "    <tr>\n",
       "      <th>2</th>\n",
       "      <td>B1</td>\n",
       "      <td>Figure de style, expression idiomatique</td>\n",
       "      <td>0.026734</td>\n",
       "      <td>0.063492</td>\n",
       "      <td>0.037625</td>\n",
       "    </tr>\n",
       "    <tr>\n",
       "      <th>3</th>\n",
       "      <td>B1</td>\n",
       "      <td>Ordre syntaxique inhabituel</td>\n",
       "      <td>0.004412</td>\n",
       "      <td>0.009772</td>\n",
       "      <td>0.006079</td>\n",
       "    </tr>\n",
       "    <tr>\n",
       "      <th>4</th>\n",
       "      <td>B1</td>\n",
       "      <td>Référence culturelle difficile</td>\n",
       "      <td>0.070323</td>\n",
       "      <td>0.132979</td>\n",
       "      <td>0.091996</td>\n",
       "    </tr>\n",
       "    <tr>\n",
       "      <th>5</th>\n",
       "      <td>B1</td>\n",
       "      <td>Difficulté liée à la grammaire</td>\n",
       "      <td>0.018309</td>\n",
       "      <td>0.221774</td>\n",
       "      <td>0.033825</td>\n",
       "    </tr>\n",
       "    <tr>\n",
       "      <th>6</th>\n",
       "      <td>B1</td>\n",
       "      <td>Indice de cohésion difficile</td>\n",
       "      <td>0.000000</td>\n",
       "      <td>0.000000</td>\n",
       "      <td>0.000000</td>\n",
       "    </tr>\n",
       "    <tr>\n",
       "      <th>7</th>\n",
       "      <td>B1</td>\n",
       "      <td>Trop d'informations secondaires</td>\n",
       "      <td>0.003195</td>\n",
       "      <td>0.029703</td>\n",
       "      <td>0.005769</td>\n",
       "    </tr>\n",
       "    <tr>\n",
       "      <th>8</th>\n",
       "      <td>A2</td>\n",
       "      <td>Graphie, problème de déchiffrage</td>\n",
       "      <td>0.066474</td>\n",
       "      <td>0.145877</td>\n",
       "      <td>0.091330</td>\n",
       "    </tr>\n",
       "    <tr>\n",
       "      <th>9</th>\n",
       "      <td>A2</td>\n",
       "      <td>Mot difficile ou inconnu</td>\n",
       "      <td>0.126008</td>\n",
       "      <td>0.248262</td>\n",
       "      <td>0.167168</td>\n",
       "    </tr>\n",
       "    <tr>\n",
       "      <th>10</th>\n",
       "      <td>A2</td>\n",
       "      <td>Figure de style, expression idiomatique</td>\n",
       "      <td>0.005599</td>\n",
       "      <td>0.024876</td>\n",
       "      <td>0.009141</td>\n",
       "    </tr>\n",
       "    <tr>\n",
       "      <th>11</th>\n",
       "      <td>A2</td>\n",
       "      <td>Ordre syntaxique inhabituel</td>\n",
       "      <td>0.000000</td>\n",
       "      <td>0.000000</td>\n",
       "      <td>0.000000</td>\n",
       "    </tr>\n",
       "    <tr>\n",
       "      <th>12</th>\n",
       "      <td>A2</td>\n",
       "      <td>Référence culturelle difficile</td>\n",
       "      <td>0.064263</td>\n",
       "      <td>0.154717</td>\n",
       "      <td>0.090808</td>\n",
       "    </tr>\n",
       "    <tr>\n",
       "      <th>13</th>\n",
       "      <td>A2</td>\n",
       "      <td>Difficulté liée à la grammaire</td>\n",
       "      <td>0.008328</td>\n",
       "      <td>0.252336</td>\n",
       "      <td>0.016124</td>\n",
       "    </tr>\n",
       "    <tr>\n",
       "      <th>14</th>\n",
       "      <td>A2</td>\n",
       "      <td>Indice de cohésion difficile</td>\n",
       "      <td>0.000000</td>\n",
       "      <td>0.000000</td>\n",
       "      <td>0.000000</td>\n",
       "    </tr>\n",
       "    <tr>\n",
       "      <th>15</th>\n",
       "      <td>A2</td>\n",
       "      <td>Trop d'informations secondaires</td>\n",
       "      <td>0.001083</td>\n",
       "      <td>0.021277</td>\n",
       "      <td>0.002062</td>\n",
       "    </tr>\n",
       "    <tr>\n",
       "      <th>16</th>\n",
       "      <td>B2</td>\n",
       "      <td>Graphie, problème de déchiffrage</td>\n",
       "      <td>0.042373</td>\n",
       "      <td>0.159574</td>\n",
       "      <td>0.066964</td>\n",
       "    </tr>\n",
       "    <tr>\n",
       "      <th>17</th>\n",
       "      <td>B2</td>\n",
       "      <td>Mot difficile ou inconnu</td>\n",
       "      <td>0.224852</td>\n",
       "      <td>0.167770</td>\n",
       "      <td>0.192162</td>\n",
       "    </tr>\n",
       "    <tr>\n",
       "      <th>18</th>\n",
       "      <td>B2</td>\n",
       "      <td>Figure de style, expression idiomatique</td>\n",
       "      <td>0.041152</td>\n",
       "      <td>0.065359</td>\n",
       "      <td>0.050505</td>\n",
       "    </tr>\n",
       "    <tr>\n",
       "      <th>19</th>\n",
       "      <td>B2</td>\n",
       "      <td>Ordre syntaxique inhabituel</td>\n",
       "      <td>0.000000</td>\n",
       "      <td>0.000000</td>\n",
       "      <td>0.000000</td>\n",
       "    </tr>\n",
       "    <tr>\n",
       "      <th>20</th>\n",
       "      <td>B2</td>\n",
       "      <td>Référence culturelle difficile</td>\n",
       "      <td>0.067901</td>\n",
       "      <td>0.141026</td>\n",
       "      <td>0.091667</td>\n",
       "    </tr>\n",
       "    <tr>\n",
       "      <th>21</th>\n",
       "      <td>B2</td>\n",
       "      <td>Difficulté liée à la grammaire</td>\n",
       "      <td>0.011312</td>\n",
       "      <td>0.084746</td>\n",
       "      <td>0.019960</td>\n",
       "    </tr>\n",
       "    <tr>\n",
       "      <th>22</th>\n",
       "      <td>B2</td>\n",
       "      <td>Indice de cohésion difficile</td>\n",
       "      <td>0.000000</td>\n",
       "      <td>0.000000</td>\n",
       "      <td>0.000000</td>\n",
       "    </tr>\n",
       "    <tr>\n",
       "      <th>23</th>\n",
       "      <td>B2</td>\n",
       "      <td>Trop d'informations secondaires</td>\n",
       "      <td>0.000000</td>\n",
       "      <td>0.000000</td>\n",
       "      <td>0.000000</td>\n",
       "    </tr>\n",
       "    <tr>\n",
       "      <th>24</th>\n",
       "      <td>A1</td>\n",
       "      <td>Graphie, problème de déchiffrage</td>\n",
       "      <td>0.114458</td>\n",
       "      <td>0.211111</td>\n",
       "      <td>0.148437</td>\n",
       "    </tr>\n",
       "    <tr>\n",
       "      <th>25</th>\n",
       "      <td>A1</td>\n",
       "      <td>Mot difficile ou inconnu</td>\n",
       "      <td>0.072289</td>\n",
       "      <td>0.260870</td>\n",
       "      <td>0.113208</td>\n",
       "    </tr>\n",
       "    <tr>\n",
       "      <th>26</th>\n",
       "      <td>A1</td>\n",
       "      <td>Figure de style, expression idiomatique</td>\n",
       "      <td>0.000000</td>\n",
       "      <td>0.000000</td>\n",
       "      <td>0.000000</td>\n",
       "    </tr>\n",
       "    <tr>\n",
       "      <th>27</th>\n",
       "      <td>A1</td>\n",
       "      <td>Ordre syntaxique inhabituel</td>\n",
       "      <td>0.000000</td>\n",
       "      <td>0.000000</td>\n",
       "      <td>0.000000</td>\n",
       "    </tr>\n",
       "    <tr>\n",
       "      <th>28</th>\n",
       "      <td>A1</td>\n",
       "      <td>Référence culturelle difficile</td>\n",
       "      <td>0.057143</td>\n",
       "      <td>0.222222</td>\n",
       "      <td>0.090909</td>\n",
       "    </tr>\n",
       "    <tr>\n",
       "      <th>29</th>\n",
       "      <td>A1</td>\n",
       "      <td>Difficulté liée à la grammaire</td>\n",
       "      <td>0.007353</td>\n",
       "      <td>0.333333</td>\n",
       "      <td>0.014388</td>\n",
       "    </tr>\n",
       "    <tr>\n",
       "      <th>30</th>\n",
       "      <td>A1</td>\n",
       "      <td>Indice de cohésion difficile</td>\n",
       "      <td>0.000000</td>\n",
       "      <td>0.000000</td>\n",
       "      <td>0.000000</td>\n",
       "    </tr>\n",
       "    <tr>\n",
       "      <th>31</th>\n",
       "      <td>A1</td>\n",
       "      <td>Trop d'informations secondaires</td>\n",
       "      <td>0.000000</td>\n",
       "      <td>0.000000</td>\n",
       "      <td>0.000000</td>\n",
       "    </tr>\n",
       "  </tbody>\n",
       "</table>\n",
       "</div>"
      ]
     },
     "execution_count": 58,
     "metadata": {},
     "output_type": "execute_result"
    }
   ],
   "execution_count": 58
  },
  {
   "metadata": {
    "ExecuteTime": {
     "end_time": "2025-05-06T18:21:39.694420Z",
     "start_time": "2025-05-06T18:21:39.690544Z"
    }
   },
   "cell_type": "code",
   "source": [
    "def compute_macro_per_class_metrics(predictions_df, annotation_df, labels):\n",
    "    \"\"\"\n",
    "    Compute macro-averaged precision, recall, and F1 per label, grouped by 'classe'.\n",
    "\n",
    "    Args:\n",
    "        predictions_df: DataFrame with predicted Markdown text per label.\n",
    "        annotation_df: DataFrame with 'classe' and 'annotations' columns.\n",
    "        labels: list of label types (e.g., ['date', 'location']).\n",
    "\n",
    "    Returns:\n",
    "        metrics: dict[class][label] = macro-averaged {Precision, Recall, F1}\n",
    "        no_annotations: list of example indices missing in annotation_df\n",
    "    \"\"\"\n",
    "    per_class_label_metrics = defaultdict(lambda: defaultdict(list))\n",
    "    no_annotations = []\n",
    "\n",
    "    for i, row in predictions_df.iterrows():\n",
    "        if i not in annotation_df.index:\n",
    "            no_annotations.append(i)\n",
    "            continue\n",
    "\n",
    "        true_class = annotation_df.loc[i]['classe']\n",
    "        annotations = annotation_df.loc[i]['annotations']\n",
    "\n",
    "        for label in labels:\n",
    "            # Extract predicted parts\n",
    "            pred_text = row.get(label, \"\")\n",
    "            matches = re.findall(r\"\\*\\*(.*?)\\*\\*\", pred_text)\n",
    "            pred_parts = [re.sub(rf\"[\\[\\]{re.escape(string.punctuation)}]\", \"\", m).strip() for m in matches]\n",
    "\n",
    "            # Extract ground truth parts for this label\n",
    "            gt_parts = [a['text'] for a in annotations if a['label'] == label]\n",
    "\n",
    "            pred_set = set(pred_parts)\n",
    "            gt_set = set(gt_parts)\n",
    "\n",
    "            tp = len(pred_set & gt_set)\n",
    "            fp = len(pred_set - gt_set)\n",
    "            fn = len(gt_set - pred_set)\n",
    "\n",
    "            precision = tp / (tp + fp) if (tp + fp) else 0.0\n",
    "            recall = tp / (tp + fn) if (tp + fn) else 0.0\n",
    "            f1 = 2 * precision * recall / (precision + recall) if (precision + recall) else 0.0\n",
    "\n",
    "            per_class_label_metrics[true_class][label].append((precision, recall, f1))\n",
    "\n",
    "    # Average per class and per label\n",
    "    results = {}\n",
    "    for cls, label_dict in per_class_label_metrics.items():\n",
    "        results[cls] = {}\n",
    "        for label, values in label_dict.items():\n",
    "            if values:\n",
    "                precisions, recalls, f1s = zip(*values)\n",
    "                results[cls][label] = {\n",
    "                    'Precision': sum(precisions) / len(precisions),\n",
    "                    'Recall': sum(recalls) / len(recalls),\n",
    "                    'F1 Score': sum(f1s) / len(f1s),\n",
    "                    'Count': len(values)\n",
    "                }\n",
    "            else:\n",
    "                results[cls][label] = {\n",
    "                    'Precision': 0.0,\n",
    "                    'Recall': 0.0,\n",
    "                    'F1 Score': 0.0,\n",
    "                    'Count': 0\n",
    "                }\n",
    "\n",
    "    return results, no_annotations\n"
   ],
   "id": "88e54025d292dd96",
   "outputs": [],
   "execution_count": 51
  },
  {
   "metadata": {
    "ExecuteTime": {
     "end_time": "2025-05-06T12:25:42.894736Z",
     "start_time": "2025-05-06T12:25:42.888258Z"
    }
   },
   "cell_type": "code",
   "source": "row",
   "id": "6024075e2692c496",
   "outputs": [
    {
     "data": {
      "text/plain": [
       "text                                       Les cultures en Afrique du Nord    Les trois p...\n",
       "Mot difficile ou inconnu                   **Maghreb**\\n\\n**agrumes**\\n\\n**oliviers**\\n\\n...\n",
       "Graphie, problème de déchiffrage           **Maghreb**\\n**agrumes**\\n**oliviers**\\n**datt...\n",
       "Figure de style, expression idiomatique    **Plus on va vers**\\n**en raison du manque**\\n...\n",
       "Référence culturelle difficile                                                   **Maghreb**\n",
       "Difficulté liée à la grammaire             **Plus on va**\\n**deviennent**\\n**en raison du...\n",
       "Trop d'informations secondaires            **quasiment**\\n\\n**Plus on va vers le sud, plu...\n",
       "Indice de cohésion difficile               - Plus **on** va vers le sud, plus les culture...\n",
       "Ordre syntaxique inhabituel                **Plus on va vers le sud**\\n**Ainsi, en Algéri...\n",
       "Name: 1735, dtype: object"
      ]
     },
     "execution_count": 33,
     "metadata": {},
     "output_type": "execute_result"
    }
   ],
   "execution_count": 33
  },
  {
   "cell_type": "code",
   "execution_count": 25,
   "id": "7a1d4a91-1935-4a00-852c-8ecee6e9af64",
   "metadata": {},
   "outputs": [
    {
     "data": {
      "text/plain": [
       "text                                       « Sortir du syndrome Tarzan »    La brigade an...\n",
       "Mot difficile ou inconnu                   **négrophobie**\\n**collectif**\\n**antiraciste*...\n",
       "Graphie, problème de déchiffrage           **occupé**\\n**démission**\\n**Assemblée**\\n**Ma...\n",
       "Figure de style, expression idiomatique    **[Sortir du syndrome Tarzan]**\\n**[le syndrom...\n",
       "Référence culturelle difficile             **Tarzan**\\n**Canal+**\\n**Marc Olivier Fogiel*...\n",
       "Difficulté liée à la grammaire             **[Il] existe**\\n**[Puis il y a eu]**\\n**[Cela...\n",
       "Trop d'informations secondaires            **Qu'est-ce que la négrophobie?**  Tout ce qui...\n",
       "Indice de cohésion difficile               - **Il** existe depuis 2005.\\n- Puis **il** y ...\n",
       "Ordre syntaxique inhabituel                **Pourquoi les Noirs et les Arabes sont plus t...\n",
       "Name: 422, dtype: object"
      ]
     },
     "execution_count": 25,
     "metadata": {},
     "output_type": "execute_result"
    }
   ],
   "source": [
    "row"
   ]
  },
  {
   "cell_type": "code",
   "execution_count": null,
   "id": "30b0b1b4-b23c-4ff0-8ff6-8004d3a13568",
   "metadata": {},
   "outputs": [],
   "source": []
  },
  {
   "cell_type": "code",
   "execution_count": 3,
   "id": "41f4c0931911e9a7",
   "metadata": {
    "jupyter": {
     "is_executing": true
    }
   },
   "outputs": [
    {
     "data": {
      "text/plain": [
       "0.5"
      ]
     },
     "execution_count": 3,
     "metadata": {},
     "output_type": "execute_result"
    }
   ],
   "source": [
    "from jiwer import wer\n",
    "\n",
    "reference = \"hello world\"\n",
    "hypothesis = \"hello duck\"\n",
    "\n",
    "error = wer(reference, hypothesis)\n",
    "error"
   ]
  },
  {
   "cell_type": "code",
   "execution_count": 2,
   "id": "f4a7bc8b6da636d8",
   "metadata": {
    "ExecuteTime": {
     "end_time": "2025-05-04T15:17:12.103811Z",
     "start_time": "2025-05-04T15:17:12.095817Z"
    }
   },
   "outputs": [
    {
     "data": {
      "text/plain": [
       "'/home/waissa/recherche/projet'"
      ]
     },
     "execution_count": 2,
     "metadata": {},
     "output_type": "execute_result"
    }
   ],
   "source": [
    "os.getcwd()"
   ]
  },
  {
   "cell_type": "code",
   "execution_count": 7,
   "id": "f0b606af05a17ea5",
   "metadata": {
    "ExecuteTime": {
     "end_time": "2025-05-04T15:20:04.311682Z",
     "start_time": "2025-05-04T15:20:04.285381Z"
    }
   },
   "outputs": [
    {
     "data": {
      "text/html": [
       "<div>\n",
       "<style scoped>\n",
       "    .dataframe tbody tr th:only-of-type {\n",
       "        vertical-align: middle;\n",
       "    }\n",
       "\n",
       "    .dataframe tbody tr th {\n",
       "        vertical-align: top;\n",
       "    }\n",
       "\n",
       "    .dataframe thead th {\n",
       "        text-align: right;\n",
       "    }\n",
       "</style>\n",
       "<table border=\"1\" class=\"dataframe\">\n",
       "  <thead>\n",
       "    <tr style=\"text-align: right;\">\n",
       "      <th></th>\n",
       "      <th>text_indice</th>\n",
       "      <th>text</th>\n",
       "      <th>Mot difficile ou inconnu</th>\n",
       "      <th>Graphie, problème de déchiffrage</th>\n",
       "      <th>Figure de style, expression idiomatique</th>\n",
       "      <th>Référence culturelle difficile</th>\n",
       "      <th>Difficulté liée à la grammaire</th>\n",
       "      <th>Trop d'informations secondaires</th>\n",
       "      <th>Indice de cohésion difficile</th>\n",
       "      <th>Ordre syntaxique inhabituel</th>\n",
       "    </tr>\n",
       "  </thead>\n",
       "  <tbody>\n",
       "    <tr>\n",
       "      <th>0</th>\n",
       "      <td>422</td>\n",
       "      <td>« Sortir du syndrome Tarzan »    La brigade an...</td>\n",
       "      <td>**négrophobie**\\n**collectif**\\n**antiraciste*...</td>\n",
       "      <td>**anti-négrophobie**\\n**négrophobie**\\n**faciè...</td>\n",
       "      <td>**contrôle au faciès**\\n**Sortir du syndrome T...</td>\n",
       "      <td>**Tarzan**\\n**Zyed et Bouna**\\n**Canal+**\\n**M...</td>\n",
       "      <td>**s'est formée**\\n**ont eu lieu**\\n**a posé**\\...</td>\n",
       "      <td>**Pourquoi ce collectif ?**\\n**Quelles sont se...</td>\n",
       "      <td>- Il existe depuis 2005. **Pourquoi ce collect...</td>\n",
       "      <td>**Pourquoi les Noirs et les Arabes sont plus t...</td>\n",
       "    </tr>\n",
       "    <tr>\n",
       "      <th>1</th>\n",
       "      <td>1735</td>\n",
       "      <td>Les cultures en Afrique du Nord    Les trois p...</td>\n",
       "      <td>NaN</td>\n",
       "      <td>NaN</td>\n",
       "      <td>NaN</td>\n",
       "      <td>NaN</td>\n",
       "      <td>NaN</td>\n",
       "      <td>NaN</td>\n",
       "      <td>NaN</td>\n",
       "      <td>NaN</td>\n",
       "    </tr>\n",
       "    <tr>\n",
       "      <th>2</th>\n",
       "      <td>2084</td>\n",
       "      <td>Bienvenue à Gardanne    Gardanne est une ville...</td>\n",
       "      <td>NaN</td>\n",
       "      <td>NaN</td>\n",
       "      <td>NaN</td>\n",
       "      <td>NaN</td>\n",
       "      <td>NaN</td>\n",
       "      <td>NaN</td>\n",
       "      <td>NaN</td>\n",
       "      <td>NaN</td>\n",
       "    </tr>\n",
       "    <tr>\n",
       "      <th>3</th>\n",
       "      <td>438</td>\n",
       "      <td>Le 8 octobre c’est la première journée paralym...</td>\n",
       "      <td>NaN</td>\n",
       "      <td>NaN</td>\n",
       "      <td>NaN</td>\n",
       "      <td>NaN</td>\n",
       "      <td>NaN</td>\n",
       "      <td>NaN</td>\n",
       "      <td>NaN</td>\n",
       "      <td>NaN</td>\n",
       "    </tr>\n",
       "    <tr>\n",
       "      <th>4</th>\n",
       "      <td>133</td>\n",
       "      <td>Une destination à conseiller pour les vacances...</td>\n",
       "      <td>NaN</td>\n",
       "      <td>NaN</td>\n",
       "      <td>NaN</td>\n",
       "      <td>NaN</td>\n",
       "      <td>NaN</td>\n",
       "      <td>NaN</td>\n",
       "      <td>NaN</td>\n",
       "      <td>NaN</td>\n",
       "    </tr>\n",
       "    <tr>\n",
       "      <th>...</th>\n",
       "      <td>...</td>\n",
       "      <td>...</td>\n",
       "      <td>...</td>\n",
       "      <td>...</td>\n",
       "      <td>...</td>\n",
       "      <td>...</td>\n",
       "      <td>...</td>\n",
       "      <td>...</td>\n",
       "      <td>...</td>\n",
       "      <td>...</td>\n",
       "    </tr>\n",
       "    <tr>\n",
       "      <th>456</th>\n",
       "      <td>1181</td>\n",
       "      <td>Démonstration Ikebana    1 variation et 1 créa...</td>\n",
       "      <td>NaN</td>\n",
       "      <td>NaN</td>\n",
       "      <td>NaN</td>\n",
       "      <td>NaN</td>\n",
       "      <td>NaN</td>\n",
       "      <td>NaN</td>\n",
       "      <td>NaN</td>\n",
       "      <td>NaN</td>\n",
       "    </tr>\n",
       "    <tr>\n",
       "      <th>457</th>\n",
       "      <td>942</td>\n",
       "      <td>Une drôle de journée    Et me voilà repartie p...</td>\n",
       "      <td>NaN</td>\n",
       "      <td>NaN</td>\n",
       "      <td>NaN</td>\n",
       "      <td>NaN</td>\n",
       "      <td>NaN</td>\n",
       "      <td>NaN</td>\n",
       "      <td>NaN</td>\n",
       "      <td>NaN</td>\n",
       "    </tr>\n",
       "    <tr>\n",
       "      <th>458</th>\n",
       "      <td>172</td>\n",
       "      <td>L'adolescence ailleurs    En Amérique, en Asie...</td>\n",
       "      <td>NaN</td>\n",
       "      <td>NaN</td>\n",
       "      <td>NaN</td>\n",
       "      <td>NaN</td>\n",
       "      <td>NaN</td>\n",
       "      <td>NaN</td>\n",
       "      <td>NaN</td>\n",
       "      <td>NaN</td>\n",
       "    </tr>\n",
       "    <tr>\n",
       "      <th>459</th>\n",
       "      <td>664</td>\n",
       "      <td>Je l'aime à mourir    Moi je n'étais rien  Et ...</td>\n",
       "      <td>NaN</td>\n",
       "      <td>NaN</td>\n",
       "      <td>NaN</td>\n",
       "      <td>NaN</td>\n",
       "      <td>NaN</td>\n",
       "      <td>NaN</td>\n",
       "      <td>NaN</td>\n",
       "      <td>NaN</td>\n",
       "    </tr>\n",
       "    <tr>\n",
       "      <th>460</th>\n",
       "      <td>1763</td>\n",
       "      <td>Recette pour faire de l’eau aromatisée    Maté...</td>\n",
       "      <td>NaN</td>\n",
       "      <td>NaN</td>\n",
       "      <td>NaN</td>\n",
       "      <td>NaN</td>\n",
       "      <td>NaN</td>\n",
       "      <td>NaN</td>\n",
       "      <td>NaN</td>\n",
       "      <td>NaN</td>\n",
       "    </tr>\n",
       "  </tbody>\n",
       "</table>\n",
       "<p>461 rows × 10 columns</p>\n",
       "</div>"
      ],
      "text/plain": [
       "     text_indice                                               text  \\\n",
       "0            422  « Sortir du syndrome Tarzan »    La brigade an...   \n",
       "1           1735  Les cultures en Afrique du Nord    Les trois p...   \n",
       "2           2084  Bienvenue à Gardanne    Gardanne est une ville...   \n",
       "3            438  Le 8 octobre c’est la première journée paralym...   \n",
       "4            133  Une destination à conseiller pour les vacances...   \n",
       "..           ...                                                ...   \n",
       "456         1181  Démonstration Ikebana    1 variation et 1 créa...   \n",
       "457          942  Une drôle de journée    Et me voilà repartie p...   \n",
       "458          172  L'adolescence ailleurs    En Amérique, en Asie...   \n",
       "459          664  Je l'aime à mourir    Moi je n'étais rien  Et ...   \n",
       "460         1763  Recette pour faire de l’eau aromatisée    Maté...   \n",
       "\n",
       "                              Mot difficile ou inconnu  \\\n",
       "0    **négrophobie**\\n**collectif**\\n**antiraciste*...   \n",
       "1                                                  NaN   \n",
       "2                                                  NaN   \n",
       "3                                                  NaN   \n",
       "4                                                  NaN   \n",
       "..                                                 ...   \n",
       "456                                                NaN   \n",
       "457                                                NaN   \n",
       "458                                                NaN   \n",
       "459                                                NaN   \n",
       "460                                                NaN   \n",
       "\n",
       "                      Graphie, problème de déchiffrage  \\\n",
       "0    **anti-négrophobie**\\n**négrophobie**\\n**faciè...   \n",
       "1                                                  NaN   \n",
       "2                                                  NaN   \n",
       "3                                                  NaN   \n",
       "4                                                  NaN   \n",
       "..                                                 ...   \n",
       "456                                                NaN   \n",
       "457                                                NaN   \n",
       "458                                                NaN   \n",
       "459                                                NaN   \n",
       "460                                                NaN   \n",
       "\n",
       "               Figure de style, expression idiomatique  \\\n",
       "0    **contrôle au faciès**\\n**Sortir du syndrome T...   \n",
       "1                                                  NaN   \n",
       "2                                                  NaN   \n",
       "3                                                  NaN   \n",
       "4                                                  NaN   \n",
       "..                                                 ...   \n",
       "456                                                NaN   \n",
       "457                                                NaN   \n",
       "458                                                NaN   \n",
       "459                                                NaN   \n",
       "460                                                NaN   \n",
       "\n",
       "                        Référence culturelle difficile  \\\n",
       "0    **Tarzan**\\n**Zyed et Bouna**\\n**Canal+**\\n**M...   \n",
       "1                                                  NaN   \n",
       "2                                                  NaN   \n",
       "3                                                  NaN   \n",
       "4                                                  NaN   \n",
       "..                                                 ...   \n",
       "456                                                NaN   \n",
       "457                                                NaN   \n",
       "458                                                NaN   \n",
       "459                                                NaN   \n",
       "460                                                NaN   \n",
       "\n",
       "                        Difficulté liée à la grammaire  \\\n",
       "0    **s'est formée**\\n**ont eu lieu**\\n**a posé**\\...   \n",
       "1                                                  NaN   \n",
       "2                                                  NaN   \n",
       "3                                                  NaN   \n",
       "4                                                  NaN   \n",
       "..                                                 ...   \n",
       "456                                                NaN   \n",
       "457                                                NaN   \n",
       "458                                                NaN   \n",
       "459                                                NaN   \n",
       "460                                                NaN   \n",
       "\n",
       "                       Trop d'informations secondaires  \\\n",
       "0    **Pourquoi ce collectif ?**\\n**Quelles sont se...   \n",
       "1                                                  NaN   \n",
       "2                                                  NaN   \n",
       "3                                                  NaN   \n",
       "4                                                  NaN   \n",
       "..                                                 ...   \n",
       "456                                                NaN   \n",
       "457                                                NaN   \n",
       "458                                                NaN   \n",
       "459                                                NaN   \n",
       "460                                                NaN   \n",
       "\n",
       "                          Indice de cohésion difficile  \\\n",
       "0    - Il existe depuis 2005. **Pourquoi ce collect...   \n",
       "1                                                  NaN   \n",
       "2                                                  NaN   \n",
       "3                                                  NaN   \n",
       "4                                                  NaN   \n",
       "..                                                 ...   \n",
       "456                                                NaN   \n",
       "457                                                NaN   \n",
       "458                                                NaN   \n",
       "459                                                NaN   \n",
       "460                                                NaN   \n",
       "\n",
       "                           Ordre syntaxique inhabituel  \n",
       "0    **Pourquoi les Noirs et les Arabes sont plus t...  \n",
       "1                                                  NaN  \n",
       "2                                                  NaN  \n",
       "3                                                  NaN  \n",
       "4                                                  NaN  \n",
       "..                                                 ...  \n",
       "456                                                NaN  \n",
       "457                                                NaN  \n",
       "458                                                NaN  \n",
       "459                                                NaN  \n",
       "460                                                NaN  \n",
       "\n",
       "[461 rows x 10 columns]"
      ]
     },
     "execution_count": 7,
     "metadata": {},
     "output_type": "execute_result"
    }
   ],
   "source": [
    "df = pd.read_csv('tmp.csv', sep='\\t')\n",
    "df"
   ]
  },
  {
   "cell_type": "code",
   "execution_count": 2,
   "id": "6aca8d1c168adbc5",
   "metadata": {
    "ExecuteTime": {
     "end_time": "2025-05-04T15:18:15.096725Z",
     "start_time": "2025-05-04T15:17:52.329683Z"
    }
   },
   "outputs": [
    {
     "name": "stdout",
     "output_type": "stream",
     "text": [
      "Index(['text', 'annotations'], dtype='object')\n"
     ]
    },
    {
     "name": "stderr",
     "output_type": "stream",
     "text": [
      "  0%|          | 0/461 [00:22<?, ?it/s]\n"
     ]
    }
   ],
   "source": [
    "predict(\"Qualtrics_Annotations_B.csv\", \"annotations_completes.xlsx\", True, model, \"tmp.csv\")"
   ]
  },
  {
   "cell_type": "code",
   "execution_count": 12,
   "id": "8984e01fd8173bd1",
   "metadata": {
    "ExecuteTime": {
     "end_time": "2025-05-02T16:08:30.714896Z",
     "start_time": "2025-05-02T16:08:30.713569Z"
    }
   },
   "outputs": [],
   "source": [
    "classes = [ \"A1\", \"A2\", \"B1\", \"B2\"]"
   ]
  },
  {
   "cell_type": "code",
   "execution_count": null,
   "id": "d4503389fc73f2ac",
   "metadata": {
    "ExecuteTime": {
     "start_time": "2025-05-02T16:08:30.761468Z"
    }
   },
   "outputs": [],
   "source": [
    "chat_response = client.chat.complete(\n",
    "    model= model,\n",
    "    messages = [\n",
    "        {\n",
    "            \"role\": \"user\",\n",
    "            \"content\": \"What is the best French cheese?\",\n",
    "        },\n",
    "    ]\n",
    ")\n",
    "print(chat_response.choices[0].message.content)"
   ]
  },
  {
   "cell_type": "markdown",
   "id": "3cf3d6e6ade2116e",
   "metadata": {},
   "source": [
    "### Classify"
   ]
  },
  {
   "cell_type": "code",
   "execution_count": 18,
   "id": "8765a884ddca7efe",
   "metadata": {
    "ExecuteTime": {
     "end_time": "2025-05-02T16:08:31.995411833Z",
     "start_time": "2025-05-02T11:44:55.612251Z"
    }
   },
   "outputs": [
    {
     "name": "stdout",
     "output_type": "stream",
     "text": [
      "B1\n"
     ]
    }
   ],
   "source": [
    "text = \"Bien que la météo soit incertaine, nous avons décidé de partir en randonnée.\"\n",
    "chat_response = client.chat.complete(\n",
    "    model= model,\n",
    "    messages = [\n",
    "        {\n",
    "            \"role\": \"user\",\n",
    "            \"content\": (\n",
    "                    f\"Classifie la lisibilité du texte suivant dans une seule catégorie parmi : {', '.join(classes)}. \\n\"\n",
    "                    \"Répond uniquement avec le nom exact de la catégorie sans justification. \\n\"\n",
    "                    f\"Texte : {text} \\nRéponse :\"\n",
    "                ),\n",
    "        },\n",
    "    ]\n",
    ")\n",
    "print(chat_response.choices[0].message.content)"
   ]
  },
  {
   "cell_type": "markdown",
   "id": "36ffdbfb5c4c3073",
   "metadata": {},
   "source": [
    "### Simplification"
   ]
  },
  {
   "cell_type": "code",
   "execution_count": 8,
   "id": "357d844420bf995e",
   "metadata": {
    "ExecuteTime": {
     "end_time": "2025-05-02T16:08:32.032417885Z",
     "start_time": "2025-05-02T11:27:01.137250Z"
    }
   },
   "outputs": [
    {
     "name": "stdout",
     "output_type": "stream",
     "text": [
      "Il fait peut-être mauvais, mais nous partons en randonnée.\n"
     ]
    }
   ],
   "source": [
    "CEFR_LEVEL = \"A2\"  # Niveau de compétence en français\n",
    "user_text = \"Bien que la météo soit incertaine, nous avons décidé de partir en randonnée.\"  # Phrase complexe à simplifier\n",
    "\n",
    "system_message = (\n",
    "    f\"Veuillez simplifier la phrase complexe suivante pour la rendre plus facile à lire et à comprendre \"\n",
    "    f\"par des apprenants de français de niveau {CEFR_LEVEL} du CECRL.\\n\"\n",
    "    f\"Pour simplifier, vous pouvez remplacer les mots difficiles par des mots plus simples, élaborer ou \"\n",
    "    f\"les supprimer lorsque cela est possible. Vous pouvez également diviser une phrase longue en phrases plus courtes et claires.\\n\"\n",
    "    f\"Assurez-vous que la phrase révisée est grammaticalement correcte, fluide et conserve le message \"\n",
    "    f\"principal de l'original sans en changer le sens.\"\n",
    ")\n",
    "\n",
    "user_message = f\"Phrase complexe : {user_text}\"\n",
    "\n",
    "chat_response = client.chat.complete(\n",
    "    model=model,\n",
    "    messages=[\n",
    "        {\"role\": \"system\", \"content\": system_message},\n",
    "        {\"role\": \"user\", \"content\": user_message}\n",
    "    ]\n",
    ")\n",
    "\n",
    "print(chat_response.choices[0].message.content)"
   ]
  },
  {
   "cell_type": "markdown",
   "id": "e39618d18f33b0f",
   "metadata": {},
   "source": [
    "### two turn conversation"
   ]
  },
  {
   "cell_type": "code",
   "execution_count": 13,
   "id": "a513f1599d39e4a6",
   "metadata": {
    "ExecuteTime": {
     "end_time": "2025-05-02T16:08:32.032966816Z",
     "start_time": "2025-05-02T11:39:51.485972Z"
    }
   },
   "outputs": [
    {
     "name": "stdout",
     "output_type": "stream",
     "text": [
      "id='da6a42505e8643d7a9b7a16cafb60ccf' object='chat.completion' model='mistral-large-latest' usage=UsageInfo(prompt_tokens=178, completion_tokens=20, total_tokens=198) created=1746185991 choices=[ChatCompletionChoice(index=0, message=AssistantMessage(content='Il fait peut-être mauvais, mais nous partons en randonnée.', tool_calls=None, prefix=False, role='assistant'), finish_reason='stop')]\n",
      "id='34bf388aa11d40f893b74e657a760c83' object='chat.completion' model='mistral-large-latest' usage=UsageInfo(prompt_tokens=286, completion_tokens=3, total_tokens=289) created=1746185992 choices=[ChatCompletionChoice(index=0, message=AssistantMessage(content='A2', tool_calls=None, prefix=False, role='assistant'), finish_reason='stop')]\n"
     ]
    }
   ],
   "source": [
    "CEFR_LEVEL = \"A2\"  # Niveau de compétence en français\n",
    "user_text = \"Bien que la météo soit incertaine, nous avons décidé de partir en randonnée.\"  # Phrase complexe à simplifier\n",
    "assistant_message_1 = \"\"\n",
    "\n",
    "\n",
    "# System message with instructions\n",
    "system_message = (\n",
    "    f\"Veuillez simplifier la phrase complexe suivante pour la rendre plus facile à lire et à comprendre\"\n",
    "    f\"par des apprenants de français de niveau {CEFR_LEVEL} du CECRL.\\n\"\n",
    "    f\"Pour simplifier, vous pouvez remplacer les mots difficiles par des mots plus simples, élaborer ou\"\n",
    "    f\"les supprimer lorsque cela est possible. Vous pouvez également diviser une phrase longue en phrases plus courtes et claires.\\n\"\n",
    "    f\"Assurez-vous que la phrase révisée est grammaticalement correcte, fluide et conserve le message \"\n",
    "    f\"principal de l'original sans en changer le sens.\"\n",
    ")\n",
    "\n",
    "# User message with the complex phrase\n",
    "user_message_1 = f\"Phrase complexe : {user_text}\"\n",
    "\n",
    "# First interaction: Send the initial user message and get the assistant's response\n",
    "first_response = client.chat.complete(\n",
    "    model=model,\n",
    "    messages=[\n",
    "        {\"role\": \"system\", \"content\": system_message},\n",
    "        {\"role\": \"user\", \"content\": user_message_1}\n",
    "    ]\n",
    ")\n",
    "\n",
    "print(first_response)\n",
    "# Extract the assistant's response from the first interaction\n",
    "assistant_message_1 = first_response.choices[0].message.content\n",
    "\n",
    "follow_up_question =  (f\"Classifie la lisibilité du texte suivant dans une seule catégorie parmi : {', '.join(classes)}. \\n \"\n",
    "                       f\"Répond uniquement avec le nom exact de la catégorie sans justification. \\n\"\n",
    "                       f\"Texte : {assistant_message_1} \\nRéponse :\")\n",
    "\n",
    "\n",
    "\n",
    "# Second interaction: Use the assistant's response as part of the input for the second message\n",
    "second_response = client.chat.complete(\n",
    "    model=model,\n",
    "    messages=[\n",
    "        {\"role\": \"system\", \"content\": system_message},\n",
    "        {\"role\": \"user\", \"content\": user_message_1},\n",
    "        {\"role\": \"assistant\", \"content\": assistant_message_1},\n",
    "        {\"role\": \"user\", \"content\": follow_up_question}\n",
    "    ]\n",
    ")\n",
    "\n",
    "# Print the second response\n",
    "print(second_response)"
   ]
  },
  {
   "cell_type": "code",
   "execution_count": 17,
   "id": "3137416b6bece40e",
   "metadata": {
    "ExecuteTime": {
     "end_time": "2025-05-02T16:08:32.038144406Z",
     "start_time": "2025-05-02T11:40:52.933243Z"
    }
   },
   "outputs": [
    {
     "data": {
      "text/plain": [
       "'Il fait peut-être mauvais, mais nous partons en randonnée.'"
      ]
     },
     "execution_count": 17,
     "metadata": {},
     "output_type": "execute_result"
    }
   ],
   "source": [
    "assistant_message_1"
   ]
  },
  {
   "cell_type": "code",
   "execution_count": 16,
   "id": "1ff5df52b8db81c6",
   "metadata": {
    "ExecuteTime": {
     "end_time": "2025-05-02T16:08:32.039744953Z",
     "start_time": "2025-05-02T11:40:46.086389Z"
    }
   },
   "outputs": [
    {
     "data": {
      "text/plain": [
       "'A2'"
      ]
     },
     "execution_count": 16,
     "metadata": {},
     "output_type": "execute_result"
    }
   ],
   "source": [
    "second_response.choices[0].message.content"
   ]
  },
  {
   "cell_type": "markdown",
   "id": "eaecd77548c179b",
   "metadata": {},
   "source": [
    "### debug .py"
   ]
  },
  {
   "cell_type": "code",
   "execution_count": 2,
   "id": "14a31bf471ce21bb",
   "metadata": {
    "ExecuteTime": {
     "end_time": "2025-05-02T16:09:53.851628Z",
     "start_time": "2025-05-02T16:09:53.812299Z"
    }
   },
   "outputs": [],
   "source": [
    "from src.mistral_trial import *\n",
    "import os"
   ]
  },
  {
   "cell_type": "code",
   "execution_count": 3,
   "id": "2d74fd8ba17f53a9",
   "metadata": {
    "ExecuteTime": {
     "end_time": "2025-05-02T16:09:54.047536Z",
     "start_time": "2025-05-02T16:09:54.033775Z"
    }
   },
   "outputs": [],
   "source": [
    "os.environ[\"MISTRAL_API_KEY\"] = None\n",
    "api_key = os.environ[\"MISTRAL_API_KEY\"]\n",
    "mistralai = True\n",
    "model = \"mistral-large-latest\"\n",
    "mistral_chat = Mistral(api_key=api_key)"
   ]
  },
  {
   "cell_type": "code",
   "execution_count": 5,
   "id": "56bb6b0d21cab7e5",
   "metadata": {
    "ExecuteTime": {
     "end_time": "2025-05-02T16:10:06.619747Z",
     "start_time": "2025-05-02T16:10:06.295721Z"
    }
   },
   "outputs": [
    {
     "name": "stdout",
     "output_type": "stream",
     "text": [
      "**biplan**\n",
      "**anthracite**\n"
     ]
    }
   ],
   "source": [
    "text = \"Le biplan survolait la région, tandis que les scientifiques étudiaient les effets de l'anthracite sur l'environnement.\"\n",
    "reader_level = \"B1\"\n",
    "difficult_words = identify_difficult_words(text, reader_level, mistralai, model, explication=False)\n",
    "print(difficult_words)\n"
   ]
  },
  {
   "cell_type": "code",
   "execution_count": 6,
   "id": "f997a0b7ea805607",
   "metadata": {
    "ExecuteTime": {
     "end_time": "2025-05-02T16:11:05.251007Z",
     "start_time": "2025-05-02T16:11:02.053768Z"
    }
   },
   "outputs": [
    {
     "name": "stdout",
     "output_type": "stream",
     "text": [
      "1. **Y543278782543164** : Ce nombre est composé d'une combinaison de lettres et de chiffres, ce qui peut rendre sa lecture et sa compréhension difficiles pour un lecteur de niveau A2. Cependant, il appartient à une autre catégorie : numératie.\n",
      "\n",
      "2. **XIV** : L'utilisation de chiffres romains pour indiquer le siècle peut poser des difficultés de déchiffrage pour un lecteur de niveau A2, car cette notation n'est pas couramment utilisée dans la vie quotidienne et peut ne pas être familière.\n",
      "\n",
      "3. **315000** : Ce nombre est écrit sans espaces, ce qui peut rendre sa lecture difficile. Pour un lecteur de niveau A2, il peut être difficile de comprendre immédiatement la valeur de ce nombre.\n",
      "\n",
      "4. **initiative** : La graphie de ce mot peut poser des difficultés d’accès au sens, mais il reste connu à l’oral.\n"
     ]
    }
   ],
   "source": [
    "text = \"La commande Y543278782543164 a été envoyée au XIV siècle, et 315000 personnes ont participé à l'initiative.\"\n",
    "reader_level = \"A2\"\n",
    "deciphering_issues = identify_deciphering_issues(text, reader_level, mistralai, model, explication=True)\n",
    "print(deciphering_issues)"
   ]
  },
  {
   "cell_type": "code",
   "execution_count": 7,
   "id": "15cd975c1b8eb14b",
   "metadata": {
    "ExecuteTime": {
     "end_time": "2025-05-02T16:11:25.176909Z",
     "start_time": "2025-05-02T16:11:24.282002Z"
    }
   },
   "outputs": [
    {
     "name": "stdout",
     "output_type": "stream",
     "text": [
      "**il n’en reste pas moins que**\n",
      "**accueillait dans ses murs**\n",
      "**fatigués par leur travail**\n"
     ]
    }
   ],
   "source": [
    "text = \"Il n’en reste pas moins que l'hôtel accueillait dans ses murs des voyageurs fatigués par leur travail.\"\n",
    "reader_level = \"A2\"\n",
    "figurative_expressions_no_explication = identify_figurative_expressions(text, reader_level, mistralai, model, explication=False)\n",
    "print(figurative_expressions_no_explication)"
   ]
  },
  {
   "cell_type": "code",
   "execution_count": 8,
   "id": "1103d40ca88133d0",
   "metadata": {
    "ExecuteTime": {
     "end_time": "2025-05-02T16:11:52.438592Z",
     "start_time": "2025-05-02T16:11:51.916921Z"
    }
   },
   "outputs": [
    {
     "name": "stdout",
     "output_type": "stream",
     "text": [
      "**Thalys**\n",
      "**Moebius**\n",
      "**Goscinny**\n",
      "**Enki Bilal**\n"
     ]
    }
   ],
   "source": [
    "text = \"Venez à Bruxelles en Thalys. On a eu en même temps Moebius, Goscinny, Enki Bilal et plein d’autres.\"\n",
    "reader_level = \"A2\"\n",
    "cultural_references_no_explication = identify_cultural_references(text, reader_level, mistralai, model, explication=False)\n",
    "print(cultural_references_no_explication)"
   ]
  },
  {
   "cell_type": "code",
   "execution_count": 9,
   "id": "c1b54fa3188b612a",
   "metadata": {
    "ExecuteTime": {
     "end_time": "2025-05-02T16:12:09.469426Z",
     "start_time": "2025-05-02T16:12:08.952613Z"
    }
   },
   "outputs": [
    {
     "name": "stdout",
     "output_type": "stream",
     "text": [
      "**me faire désirer**\n",
      "**me faire attendre**\n",
      "**ayant souffert**\n"
     ]
    }
   ],
   "source": [
    "text = \"Je préfère me faire désirer, me faire attendre plutôt qu’attendre. Les tiges ayant souffert du gel.\"\n",
    "reader_level = \"A2\"\n",
    "grammatical_difficulties_no_explication = identify_grammatical_difficulties(text, reader_level, mistralai, model, explication=False)\n",
    "print(grammatical_difficulties_no_explication)"
   ]
  },
  {
   "cell_type": "code",
   "execution_count": 10,
   "id": "33946a6fc18f3c32",
   "metadata": {
    "ExecuteTime": {
     "end_time": "2025-05-02T16:12:30.802971Z",
     "start_time": "2025-05-02T16:12:29.588296Z"
    }
   },
   "outputs": [
    {
     "name": "stdout",
     "output_type": "stream",
     "text": [
      "**comme l’an prochain, comme depuis 1790**\n",
      "**que la paix n’est pas un confort qu’on achète par des concessions**\n"
     ]
    }
   ],
   "source": [
    "text = \"Cette année, comme l’an prochain, comme depuis 1790, le défilé du 14 juillet nous rappellera que certaines choses méritent qu’on s’engage et qu’on se batte pour elles, que la paix n’est pas un confort qu’on achète par des concessions.\"\n",
    "reader_level = \"A2\"\n",
    "secondary_information_no_explication = identify_secondary_information(text, reader_level, mistralai, model, explication=False)\n",
    "print(secondary_information_no_explication)"
   ]
  },
  {
   "cell_type": "code",
   "execution_count": 11,
   "id": "a993e8a4a01d784d",
   "metadata": {
    "ExecuteTime": {
     "end_time": "2025-05-02T16:12:57.649382Z",
     "start_time": "2025-05-02T16:12:56.366895Z"
    }
   },
   "outputs": [
    {
     "name": "stdout",
     "output_type": "stream",
     "text": [
      "Il faut un grand terrain, un pré ou une plage, et beaucoup de copains car il faut réunir deux équipes, **de 7 sur l’herbe ou de 5 sur la plage**.\n"
     ]
    }
   ],
   "source": [
    "text = \"Il faut un grand terrain, un pré ou une plage, et beaucoup de copains car il faut réunir deux équipes, de 7 sur l’herbe ou de 5 sur la plage.\"\n",
    "reader_level = \"A2\"\n",
    "cohesion_issues_no_explication = identify_cohesion_issues(text, reader_level, mistralai, model, explication=False)\n",
    "print(cohesion_issues_no_explication)"
   ]
  },
  {
   "cell_type": "code",
   "execution_count": 12,
   "id": "547eff9697418d36",
   "metadata": {
    "ExecuteTime": {
     "end_time": "2025-05-02T16:13:26.995809Z",
     "start_time": "2025-05-02T16:13:26.382836Z"
    }
   },
   "outputs": [
    {
     "name": "stdout",
     "output_type": "stream",
     "text": [
      "**Là où vivaient des arbres maintenant la ville est là.**\n",
      "**Mourir vos beaux yeux, belle Marquise, d’amour me font.**\n"
     ]
    }
   ],
   "source": [
    "text = \"Là où vivaient des arbres maintenant la ville est là. Mourir vos beaux yeux, belle Marquise, d’amour me font.\"\n",
    "reader_level = \"A2\"\n",
    "unusual_syntax_no_explication = identify_unusual_syntax(text, reader_level, mistralai, model, explication=False)\n",
    "print(unusual_syntax_no_explication)"
   ]
  },
  {
   "cell_type": "code",
   "execution_count": null,
   "id": "7e63edd104fa95b7",
   "metadata": {},
   "outputs": [],
   "source": []
  }
 ],
 "metadata": {
  "kernelspec": {
   "display_name": "Python 3 (ipykernel)",
   "language": "python",
   "name": "python3"
  },
  "language_info": {
   "codemirror_mode": {
    "name": "ipython",
    "version": 3
   },
   "file_extension": ".py",
   "mimetype": "text/x-python",
   "name": "python",
   "nbconvert_exporter": "python",
   "pygments_lexer": "ipython3",
   "version": "3.12.7"
  }
 },
 "nbformat": 4,
 "nbformat_minor": 5
}
