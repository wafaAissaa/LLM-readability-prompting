{
 "cells": [
  {
   "cell_type": "code",
   "id": "initial_id",
   "metadata": {
    "collapsed": true,
    "ExecuteTime": {
     "end_time": "2025-05-18T21:10:50.706223Z",
     "start_time": "2025-05-18T21:10:49.564063Z"
    }
   },
   "source": [
    "import pandas as pd\n",
    "import openai\n",
    "from openai import OpenAI\n",
    "import sys\n",
    "sys.path.append('../src')\n",
    "from src.cwi_undersampling import definitions\n",
    "from pydantic import BaseModel\n",
    "from typing import List, Literal, Union\n",
    "import json\n",
    "import ast\n",
    "import re\n",
    "import os"
   ],
   "outputs": [],
   "execution_count": 1
  },
  {
   "metadata": {
    "ExecuteTime": {
     "end_time": "2025-05-18T21:51:27.114078Z",
     "start_time": "2025-05-18T21:51:27.108036Z"
    }
   },
   "cell_type": "code",
   "source": "print(os.getenv(\"QWEN_API_KEY\"))",
   "id": "cfbce3d21b4804fb",
   "outputs": [
    {
     "name": "stdout",
     "output_type": "stream",
     "text": [
      "None\n"
     ]
    }
   ],
   "execution_count": 34
  },
  {
   "metadata": {
    "ExecuteTime": {
     "end_time": "2025-05-18T21:18:49.781190Z",
     "start_time": "2025-05-18T21:18:49.028433Z"
    }
   },
   "cell_type": "code",
   "source": [
    "!export DASHSCOPE_API_KEY=\n",
    "!echo $DASHSCOPE_API_KEY"
   ],
   "id": "c520e520607b8b6b",
   "outputs": [
    {
     "name": "stdout",
     "output_type": "stream",
     "text": [
      "\r\n"
     ]
    }
   ],
   "execution_count": 8
  },
  {
   "metadata": {
    "ExecuteTime": {
     "end_time": "2025-05-18T21:42:08.286393Z",
     "start_time": "2025-05-18T21:42:08.275213Z"
    }
   },
   "cell_type": "code",
   "source": [
    "class AnnotatedTerm(BaseModel):\n",
    "    term: str\n",
    "    label: List[\n",
    "        Literal['Mot difficile ou inconnu',\n",
    "          'Graphie, problème de déchiffrage',\n",
    "          'Figure de style, expression idiomatique',\n",
    "          'Référence culturelle difficile',\n",
    "          'Difficulté liée à la grammaire',\n",
    "          \"Trop d'informations secondaires\",\n",
    "          \"Indice de cohésion difficile (connecteur, pronom, inférence)\",\n",
    "          'Ordre syntaxique inhabituel',\n",
    "          '0']\n",
    "    ]\n",
    "\n",
    "class AnnotatedText(BaseModel):\n",
    "    annotations: List[AnnotatedTerm]"
   ],
   "id": "86f4e20811dffe72",
   "outputs": [],
   "execution_count": 29
  },
  {
   "metadata": {
    "ExecuteTime": {
     "end_time": "2025-05-18T21:44:31.730406Z",
     "start_time": "2025-05-18T21:44:07.881780Z"
    }
   },
   "cell_type": "code",
   "source": [
    "\n",
    "client = OpenAI(\n",
    "    # If the environment variable is not configured, replace the following line with your API key: api_key=\"sk-xxx\",\n",
    "    api_key=None,\n",
    "    base_url=\"https://dashscope-intl.aliyuncs.com/compatible-mode/v1\",\n",
    ")\n",
    "\n",
    "completion = client.beta.chat.completions.parse(\n",
    "    model=\"qwen2.5-72b-instruct\",  # Model list: https://www.alibabacloud.com/help/en/model-studio/getting-started/models\n",
    "    messages=messages,\n",
    "    response_format={\"type\": \"json_object\"},\n",
    ")\n",
    "print(completion.choices[0].message.content)\n"
   ],
   "id": "149d81c8e554c5ff",
   "outputs": [
    {
     "name": "stdout",
     "output_type": "stream",
     "text": [
      "[\n",
      "  {\"term\": \"Il\", \"label\": \"0\"},\n",
      "  {\"term\": \"négrophobie?\", \"label\": [\"Mot difficile ou inconnu\"]},\n",
      "  {\"term\": \"région parisienne.\", \"label\": \"0\"},\n",
      "  {\"term\": \"brigade anti-négrophobie\", \"label\": [\"Mot difficile ou inconnu\"]},\n",
      "  {\"term\": \"discriminations raciales.\", \"label\": [\"Mot difficile ou inconnu\"]},\n",
      "  {\"term\": \"inscrivait\", \"label\": [\"Difficulté liée à la grammaire\"]},\n",
      "  {\"term\": \"2005. Pourquoi\", \"label\": [\"Trop d'informations secondaires\"]},\n",
      "  {\"term\": \"des Noirs s'étaient battus pour de grandes idées. Je suis travailleur social. Éduquer les mentalités est fondamental dans la lutte contre\", \"label\": [\"Trop d'informations secondaires\"]},\n",
      "  {\"term\": \"avec\", \"label\": \"0\"},\n",
      "  {\"term\": \"faciès.\", \"label\": [\"Mot difficile ou inconnu\"]},\n",
      "  {\"term\": \"antiraciste.\", \"label\": \"0\"},\n",
      "  {\"term\": \"les\", \"label\": \"0\"},\n",
      "  {\"term\": \"existe\", \"label\": \"0\"},\n",
      "  {\"term\": \"sont\", \"label\": \"0\"},\n",
      "  {\"term\": \"la\", \"label\": \"0\"},\n",
      "  {\"term\": \"des images négatives : le\", \"label\": \"0\"},\n",
      "  {\"term\": \"Tarzan »\", \"label\": \"0\"},\n",
      "  {\"term\": \"moyens.\", \"label\": \"0\"},\n",
      "  {\"term\": \"Éduquer\", \"label\": \"0\"},\n",
      "  {\"term\": \"Tarzan.\", \"label\": \"0\"},\n",
      "  {\"term\": \"racisme\", \"label\": \"0\"},\n",
      "  {\"term\": \"brigade\", \"label\": \"0\"},\n",
      "  {\"term\": \"la\", \"label\": \"0\"},\n",
      "  {\"term\": \"négrophobie.\", \"label\": [\"Mot difficile ou inconnu\"]},\n",
      "  {\"term\": \"suis\", \"label\": \"0\"},\n",
      "  {\"term\": \"peur,\", \"label\": \"0\"},\n",
      "  {\"term\": \"Bouna.\", \"label\": \"0\"},\n",
      "  {\"term\": \"s'est formée\", \"label\": \"0\"},\n",
      "  {\"term\": \"Pourquoi les Noirs et les Arabes sont\", \"label\": [\"Trop d'informations secondaires\"]},\n",
      "  {\"term\": \"enchaîné\", \"label\": [\"Mot difficile ou inconnu\"]},\n",
      "  {\"term\": \"racisme\", \"label\": \"0\"},\n",
      "  {\"term\": \"se\", \"label\": \"0\"},\n",
      "  {\"term\": \"syndrome\", \"label\": [\"Mot difficile ou inconnu\"]},\n",
      "  {\"term\": \"collectif\", \"label\": \"0\"},\n",
      "  {\"term\": \"Peuple.\", \"label\": \"0\"},\n",
      "  {\"term\": \"par\", \"label\": \"0\"},\n",
      "  {\"term\": \"fondamental dans\", \"label\": \"0\"},\n",
      "  {\"term\": \"d'incitation\", \"label\": [\"Mot difficile ou inconnu\"]},\n",
      "  {\"term\": \":\", \"label\": \"0\"},\n",
      "  {\"term\": \"France veut\", \"label\": \"0\"},\n",
      "  {\"term\": \"Pourtant, l'un voudra se défriser les cheveux.\", \"label\": [\"Trop d'informations secondaires\"]},\n",
      "  {\"term\": \"syndrome Tarzan.\", \"label\": [\"Mot difficile ou inconnu\"]},\n",
      "  {\"term\": \"que\", \"label\": \"0\"},\n",
      "  {\"term\": \"Tout ce qui est en rapport avec la peur, la haine, le mépris, le rejet des personnes et des cultures noires.\", \"label\": [\"Trop d'informations secondaires\"]},\n",
      "  {\"term\": \"incendies\", \"label\": \"0\"},\n",
      "  {\"term\": \"les\", \"label\": \"0\"},\n",
      "  {\"term\": \"Zyed\", \"label\": \"0\"},\n",
      "  {\"term\": \"En 2005,\", \"label\": \"0\"},\n",
      "  {\"term\": \"anti-négrophobie\", \"label\": [\"Mot difficile ou inconnu\"]},\n",
      "  {\"term\": \"d'incitation à la haine raciale.\", \"label\": [\"Mot difficile ou inconnu\"]},\n",
      "  {\"term\": \"discriminations\", \"label\": [\"Mot difficile ou inconnu\"]},\n",
      "  {\"term\": \"elle ne s'en donne pas les moyens.\", \"label\": [\"Difficulté liée à la grammaire\"]},\n",
      "  {\"term\": \"est fondamental dans la lutte contre le\", \"label\": \"0\"},\n",
      "  {\"term\": \"Colbert\", \"label\": [\"Référence culturelle difficile\"]},\n",
      "  {\"term\": \"actions?\", \"label\": \"0\"},\n",
      "  {\"term\": \"depuis\", \"label\": \"0\"}\n",
      "]\n"
     ]
    }
   ],
   "execution_count": 32
  },
  {
   "metadata": {
    "ExecuteTime": {
     "end_time": "2025-05-18T21:28:59.222321Z",
     "start_time": "2025-05-18T21:28:59.214157Z"
    }
   },
   "cell_type": "code",
   "source": "completion.choices[0].message.content",
   "id": "5ea7d6c2bbc84d5d",
   "outputs": [
    {
     "data": {
      "text/plain": [
       "'I am Qwen, a large language model created by Alibaba Cloud. I am designed to assist users in generating various types of text, such as articles, stories, poems, and more, as well as answering questions and providing information across a wide range of topics. How can I assist you today?'"
      ]
     },
     "execution_count": 18,
     "metadata": {},
     "output_type": "execute_result"
    }
   ],
   "execution_count": 18
  },
  {
   "metadata": {
    "ExecuteTime": {
     "end_time": "2025-05-18T21:39:17.913261Z",
     "start_time": "2025-05-18T21:39:17.904563Z"
    }
   },
   "cell_type": "code",
   "source": [
    "class AnnotatedTermBinary(BaseModel):\n",
    "    term: str\n",
    "    label: Literal[0, 1]\n",
    "\n",
    "class AnnotatedTextBinary(BaseModel):\n",
    "    annotations: List[AnnotatedTermBinary]\n"
   ],
   "id": "1536b9a6a833f309",
   "outputs": [],
   "execution_count": 27
  },
  {
   "metadata": {
    "ExecuteTime": {
     "end_time": "2025-05-18T21:23:42.946299Z",
     "start_time": "2025-05-18T21:23:42.937863Z"
    }
   },
   "cell_type": "code",
   "source": [
    "text = \"« Sortir du syndrome Tarzan »    La brigade anti-négrophobie est un collectif antiraciste. Il existe depuis 2005. Pourquoi ce collectif ? Quelles sont ses actions? Explications avec Franco, le porte-parole du collectif.    Qu'est-ce que la négrophobie?  Tout ce qui est en rapport avec la peur, la haine, le mépris, le rejet des personnes et des cultures noires.    Comment s'est formée la brigade anti-négrophobie?   La brigade est née en 2005. Des incendies ont eu lieu en région parisienne. Ils ont révélé des discriminations raciales. Puis il y a eu la mort de Zyed et Bouna. Cela a posé la question du contrôle au faciès. Pourquoi les Noirs et les Arabes sont plus touchés par le contrôle au faciès ? La France veut combattre le racisme mais elle ne s'en donne pas les moyens.    Quelles ont été vos actions?  En 2005, on a occupé le plateau de Canal+. On a demandé la démission de l'animateur Marc Olivier Fogiel. Il avait été reconnu coupable d'incitation à la haine raciale. On s'est aussi enchaîné à l'Assemblée Nationale. La statue de Colbert est devant la Maison du Peuple. Colbert est le père du Code noir (1685) qui inscrivait que les noirs ne sont pas des êtres humains!    Quel a été votre parcours?  Petit, je ne recevais que des images négatives : le syndrome Tarzan. Quand un Blanc et un Noir regardent Tarzan, les deux s'identifient. Pourtant, l'un voudra se défriser les cheveux. Puis, j'ai appris que des Noirs s'étaient battus pour de grandes idées. Je suis travailleur social. Éduquer les mentalités est fondamental dans la lutte contre le racisme et la négrophobie.     Pour en savoir plus : WWW.BRIGADEANTINEGROPHOBIE.COM\"\n",
    "list_tokens= ['Il', 'négrophobie?', 'région parisienne.', 'brigade anti-négrophobie', 'discriminations raciales.', 'inscrivait', '2005. Pourquoi', \"des Noirs s'étaient battus pour de grandes idées. Je suis travailleur social. Éduquer les mentalités est fondamental dans la lutte contre\", 'avec', 'faciès.', 'antiraciste.', 'les', 'existe', 'sont', 'la', 'des images négatives : le', 'Tarzan »', 'moyens.', 'Éduquer', 'Tarzan.', 'racisme', 'brigade', 'la', 'négrophobie.', 'suis', 'peur,', 'Bouna.', \"s'est formée\", 'Pourquoi les Noirs et les Arabes sont', 'enchaîné', 'racisme', 'se', 'syndrome', 'collectif', 'Peuple.', 'par', 'fondamental dans', \"d'incitation\", ':', 'France veut', \"Pourtant, l'un voudra se défriser les cheveux.\", 'syndrome Tarzan.', 'que', 'Tout ce qui est en rapport avec la peur, la haine, le mépris, le rejet des personnes et des cultures noires.', 'incendies', 'les', 'Zyed', 'En 2005,', 'anti-négrophobie', \"d'incitation à la haine raciale.\", 'discriminations', \"elle ne s'en donne pas les moyens.\", 'est fondamental dans la lutte contre le', 'Colbert', 'actions?', 'depuis']\n",
    "reader_level = 'B1'"
   ],
   "id": "3541703f4cfb8215",
   "outputs": [],
   "execution_count": 12
  },
  {
   "metadata": {
    "ExecuteTime": {
     "end_time": "2025-05-18T21:42:37.167520Z",
     "start_time": "2025-05-18T21:42:37.156505Z"
    }
   },
   "cell_type": "code",
   "source": [
    "system_message_binary = (\n",
    "            \"Vous êtes un assistant linguistique spécialisé dans l'analyse de la complexité lexicale. \"\n",
    "            \"Votre tâche est d'évaluer si un mot est complexe dans le contexte fourni, en fonction du niveau CECR du lecteur cible. \"\n",
    "            \"Un mot est considéré comme complexe s’il présente une ou plusieurs des difficultés suivantes, selon les définitions ci-dessous :\\n\\n\"\n",
    "            + \"\\n\".join([f\"- \\\"{k}\\\" : {v}\" for k, v in definitions.items()]) +\n",
    "            \"Format attendu : une liste d’objets JSON, un par mot, contenant les champs suivants :\\n\"\n",
    "            \"- \\\"term\\\" : le mot analysé\\n\"\n",
    "            \"- \\\"label\\\" : 1 si le mot est jugé complexe, sinon \\\"0\\\"\\n\\n\"\n",
    "    )\n",
    "\n",
    "system_message_multilabel = (\n",
    "            \"Vous êtes un assistant linguistique spécialisé dans l'analyse de la complexité lexicale. \"\n",
    "            \"Votre tâche est d'évaluer si un mot est complexe dans le contexte fourni, en fonction du niveau CECR du lecteur cible. \"\n",
    "            \"Un mot est considéré comme complexe s’il présente une ou plusieurs des difficultés suivantes, selon les définitions ci-dessous :\\n\\n\"\n",
    "            + \"\\n\".join([f\"- \\\"{k}\\\" : {v}\" for k, v in definitions.items()]) +\n",
    "            \"\\nImportant : un même mot complexe peut présenter plusieurs types de difficulté simultanément. \"\n",
    "            \"Dans ce cas, **indiquez tous les types de difficulté applicables** sous forme de liste de labels. \"\n",
    "            \"Si le mot n'est pas complexe, utilisez la valeur \\\"0\\\".\\n\\n\"\n",
    "            \"Format attendu : une liste d’objets JSON, un par mot, contenant les champs suivants :\\n\"\n",
    "            \"- \\\"term\\\" : le mot analysé\\n\"\n",
    "            \"- \\\"label\\\" : la liste des types de difficulté pertinents parmi ceux listés ci-dessus si le mot est jugé complexe, sinon \\\"0\\\"\\n\\n\"\n",
    "    )\n",
    "\n",
    "\n",
    "user_message = (\n",
    "        f\"Niveau CECR du lecteur : {reader_level}\\n\"\n",
    "        f\"Texte : '{text}'\\n\"\n",
    "        f\"liste de mots à évaluer: '{list_tokens}'\\n\"\n",
    "        f\"Évaluez la complexité de chacun des mots de ce texte pour ce niveau de lecteur.\"\n",
    "    )\n",
    "\n",
    "messages = [\n",
    "        {\"role\": \"system\", \"content\": system_message_binary},\n",
    "        {\"role\": \"user\", \"content\": user_message}\n",
    "    ]"
   ],
   "id": "ad496d110b3edde0",
   "outputs": [],
   "execution_count": 30
  },
  {
   "metadata": {
    "ExecuteTime": {
     "end_time": "2025-05-18T12:21:20.399501Z",
     "start_time": "2025-05-18T12:21:20.396246Z"
    }
   },
   "cell_type": "code",
   "source": "client",
   "id": "e62cf4fd00080fed",
   "outputs": [
    {
     "data": {
      "text/plain": [
       "<openai.OpenAI at 0x74b0454cd3a0>"
      ]
     },
     "execution_count": 61,
     "metadata": {},
     "output_type": "execute_result"
    }
   ],
   "execution_count": 61
  },
  {
   "metadata": {
    "ExecuteTime": {
     "end_time": "2025-05-18T12:24:31.947316Z",
     "start_time": "2025-05-18T12:21:47.476119Z"
    }
   },
   "cell_type": "code",
   "source": [
    "client = OpenAI(api_key=None, base_url=\"https://api.deepseek.com/v1\")\n",
    "\n",
    "response = client.chat.completions.create(\n",
    "    model=\"deepseek-reasoner\",\n",
    "    messages=messages,\n",
    ")\n",
    "\n",
    "print(response.choices[0].message.content)"
   ],
   "id": "6eb28d499c0a81bf",
   "outputs": [
    {
     "name": "stdout",
     "output_type": "stream",
     "text": [
      "```json\n",
      "[\n",
      "  {\"term\": \"Il\", \"label\": 0},\n",
      "  {\"term\": \"négrophobie?\", \"label\": 1},\n",
      "  {\"term\": \"région parisienne.\", \"label\": 0},\n",
      "  {\"term\": \"brigade anti-négrophobie\", \"label\": 1},\n",
      "  {\"term\": \"discriminations raciales.\", \"label\": 0},\n",
      "  {\"term\": \"inscrivait\", \"label\": 1},\n",
      "  {\"term\": \"2005. Pourquoi\", \"label\": 0},\n",
      "  {\"term\": \"des Noirs s'étaient battus pour de grandes idées. Je suis travailleur social. Éduquer les mentalités est fondamental dans la lutte contre\", \"label\": 1},\n",
      "  {\"term\": \"avec\", \"label\": 0},\n",
      "  {\"term\": \"faciès.\", \"label\": 1},\n",
      "  {\"term\": \"antiraciste.\", \"label\": 0},\n",
      "  {\"term\": \"les\", \"label\": 0},\n",
      "  {\"term\": \"existe\", \"label\": 0},\n",
      "  {\"term\": \"sont\", \"label\": 0},\n",
      "  {\"term\": \"la\", \"label\": 0},\n",
      "  {\"term\": \"des images négatives : le\", \"label\": 0},\n",
      "  {\"term\": \"Tarzan »\", \"label\": 1},\n",
      "  {\"term\": \"moyens.\", \"label\": 0},\n",
      "  {\"term\": \"Éduquer\", \"label\": 0},\n",
      "  {\"term\": \"Tarzan.\", \"label\": 1},\n",
      "  {\"term\": \"racisme\", \"label\": 0},\n",
      "  {\"term\": \"brigade\", \"label\": 0},\n",
      "  {\"term\": \"la\", \"label\": 0},\n",
      "  {\"term\": \"négrophobie.\", \"label\": 1},\n",
      "  {\"term\": \"suis\", \"label\": 0},\n",
      "  {\"term\": \"peur,\", \"label\": 0},\n",
      "  {\"term\": \"Bouna.\", \"label\": 0},\n",
      "  {\"term\": \"s'est formée\", \"label\": 0},\n",
      "  {\"term\": \"Pourquoi les Noirs et les Arabes sont\", \"label\": 0},\n",
      "  {\"term\": \"enchaîné\", \"label\": 1},\n",
      "  {\"term\": \"racisme\", \"label\": 0},\n",
      "  {\"term\": \"se\", \"label\": 0},\n",
      "  {\"term\": \"syndrome\", \"label\": 1},\n",
      "  {\"term\": \"collectif\", \"label\": 0},\n",
      "  {\"term\": \"Peuple.\", \"label\": 0},\n",
      "  {\"term\": \"par\", \"label\": 0},\n",
      "  {\"term\": \"fondamental dans\", \"label\": 0},\n",
      "  {\"term\": \"d'incitation\", \"label\": 1},\n",
      "  {\"term\": \":\", \"label\": 0},\n",
      "  {\"term\": \"France veut\", \"label\": 0},\n",
      "  {\"term\": \"Pourtant, l'un voudra se défriser les cheveux.\", \"label\": 1},\n",
      "  {\"term\": \"syndrome Tarzan.\", \"label\": 1},\n",
      "  {\"term\": \"que\", \"label\": 0},\n",
      "  {\"term\": \"Tout ce qui est en rapport avec la peur, la haine, le mépris, le rejet des personnes et des cultures noires.\", \"label\": 1},\n",
      "  {\"term\": \"incendies\", \"label\": 0},\n",
      "  {\"term\": \"les\", \"label\": 0},\n",
      "  {\"term\": \"Zyed\", \"label\": 0},\n",
      "  {\"term\": \"En 2005,\", \"label\": 0},\n",
      "  {\"term\": \"anti-négrophobie\", \"label\": 1},\n",
      "  {\"term\": \"d'incitation à la haine raciale.\", \"label\": 1},\n",
      "  {\"term\": \"discriminations\", \"label\": 0},\n",
      "  {\"term\": \"elle ne s'en donne pas les moyens.\", \"label\": 1},\n",
      "  {\"term\": \"est fondamental dans la lutte contre le\", \"label\": 0},\n",
      "  {\"term\": \"Colbert\", \"label\": 1},\n",
      "  {\"term\": \"actions?\", \"label\": 0},\n",
      "  {\"term\": \"depuis\", \"label\": 0}\n",
      "]\n",
      "```\n"
     ]
    }
   ],
   "execution_count": 62
  },
  {
   "metadata": {
    "ExecuteTime": {
     "end_time": "2025-05-18T12:05:07.400960Z",
     "start_time": "2025-05-18T12:05:07.395099Z"
    }
   },
   "cell_type": "code",
   "source": [
    "#for multi_case:\n",
    "clean_json_str = re.sub(r\"```json\\n|\\n```\", \"\", response.choices[0].message.content)"
   ],
   "id": "17039adc9a19a68b",
   "outputs": [],
   "execution_count": 40
  },
  {
   "metadata": {
    "ExecuteTime": {
     "end_time": "2025-05-18T12:05:10.181805Z",
     "start_time": "2025-05-18T12:05:10.178383Z"
    }
   },
   "cell_type": "code",
   "source": "clean_json_str",
   "id": "96d49a7709ec3fb2",
   "outputs": [
    {
     "data": {
      "text/plain": [
       "'[\\n  {\\n    \"term\": \"Il\",\\n    \"label\": \"0\"\\n  },\\n  {\\n    \"term\": \"négrophobie?\",\\n    \"label\": [\"Mot difficile ou inconnu\", \"Référence culturelle difficile\"]\\n  },\\n  {\\n    \"term\": \"région parisienne.\",\\n    \"label\": [\"Référence culturelle difficile\"]\\n  },\\n  {\\n    \"term\": \"brigade anti-négrophobie\",\\n    \"label\": [\"Mot difficile ou inconnu\", \"Référence culturelle difficile\"]\\n  },\\n  {\\n    \"term\": \"discriminations raciales.\",\\n    \"label\": [\"Référence culturelle difficile\"]\\n  },\\n  {\\n    \"term\": \"inscrivait\",\\n    \"label\": [\"Mot difficile ou inconnu\", \"Difficulté liée à la grammaire\"]\\n  },\\n  {\\n    \"term\": \"2005. Pourquoi\",\\n    \"label\": \"0\"\\n  },\\n  {\\n    \"term\": \"des Noirs s\\'étaient battus pour de grandes idées. Je suis travailleur social. Éduquer les mentalités est fondamental dans la lutte contre\",\\n    \"label\": [\"Difficulté liée à la grammaire\", \"Figure de style, expression idiomatique\", \"Mot difficile ou inconnu\"]\\n  },\\n  {\\n    \"term\": \"avec\",\\n    \"label\": \"0\"\\n  },\\n  {\\n    \"term\": \"faciès.\",\\n    \"label\": [\"Mot difficile ou inconnu\"]\\n  },\\n  {\\n    \"term\": \"antiraciste.\",\\n    \"label\": [\"Mot difficile ou inconnu\"]\\n  },\\n  {\\n    \"term\": \"les\",\\n    \"label\": \"0\"\\n  },\\n  {\\n    \"term\": \"existe\",\\n    \"label\": \"0\"\\n  },\\n  {\\n    \"term\": \"sont\",\\n    \"label\": \"0\"\\n  },\\n  {\\n    \"term\": \"la\",\\n    \"label\": \"0\"\\n  },\\n  {\\n    \"term\": \"des images négatives : le\",\\n    \"label\": [\"Figure de style, expression idiomatique\", \"Référence culturelle difficile\"]\\n  },\\n  {\\n    \"term\": \"Tarzan »\",\\n    \"label\": [\"Référence culturelle difficile\"]\\n  },\\n  {\\n    \"term\": \"moyens.\",\\n    \"label\": \"0\"\\n  },\\n  {\\n    \"term\": \"Éduquer\",\\n    \"label\": [\"Figure de style, expression idiomatique\"]\\n  },\\n  {\\n    \"term\": \"Tarzan.\",\\n    \"label\": [\"Référence culturelle difficile\"]\\n  },\\n  {\\n    \"term\": \"racisme\",\\n    \"label\": \"0\"\\n  },\\n  {\\n    \"term\": \"brigade\",\\n    \"label\": [\"Mot difficile ou inconnu\"]\\n  },\\n  {\\n    \"term\": \"la\",\\n    \"label\": \"0\"\\n  },\\n  {\\n    \"term\": \"négrophobie.\",\\n    \"label\": [\"Mot difficile ou inconnu\", \"Référence culturelle difficile\"]\\n  },\\n  {\\n    \"term\": \"suis\",\\n    \"label\": \"0\"\\n  },\\n  {\\n    \"term\": \"peur,\",\\n    \"label\": \"0\"\\n  },\\n  {\\n    \"term\": \"Bouna.\",\\n    \"label\": [\"Référence culturelle difficile\"]\\n  },\\n  {\\n    \"term\": \"s\\'est formée\",\\n    \"label\": [\"Difficulté liée à la grammaire\"]\\n  },\\n  {\\n    \"term\": \"Pourquoi les Noirs et les Arabes sont\",\\n    \"label\": [\"Référence culturelle difficile\"]\\n  },\\n  {\\n    \"term\": \"enchaîné\",\\n    \"label\": [\"Mot difficile ou inconnu\"]\\n  },\\n  {\\n    \"term\": \"racisme\",\\n    \"label\": \"0\"\\n  },\\n  {\\n    \"term\": \"se\",\\n    \"label\": \"0\"\\n  },\\n  {\\n    \"term\": \"syndrome\",\\n    \"label\": [\"Mot difficile ou inconnu\"]\\n  },\\n  {\\n    \"term\": \"collectif\",\\n    \"label\": [\"Mot difficile ou inconnu\"]\\n  },\\n  {\\n    \"term\": \"Peuple.\",\\n    \"label\": [\"Référence culturelle difficile\"]\\n  },\\n  {\\n    \"term\": \"par\",\\n    \"label\": \"0\"\\n  },\\n  {\\n    \"term\": \"fondamental dans\",\\n    \"label\": \"0\"\\n  },\\n  {\\n    \"term\": \"d\\'incitation\",\\n    \"label\": [\"Mot difficile ou inconnu\"]\\n  },\\n  {\\n    \"term\": \":\",\\n    \"label\": \"0\"\\n  },\\n  {\\n    \"term\": \"France veut\",\\n    \"label\": \"0\"\\n  },\\n  {\\n    \"term\": \"Pourtant, l\\'un voudra se défriser les cheveux.\",\\n    \"label\": [\"Figure de style, expression idiomatique\", \"Référence culturelle difficile\"]\\n  },\\n  {\\n    \"term\": \"syndrome Tarzan.\",\\n    \"label\": [\"Mot difficile ou inconnu\", \"Référence culturelle difficile\"]\\n  },\\n  {\\n    \"term\": \"que\",\\n    \"label\": \"0\"\\n  },\\n  {\\n    \"term\": \"Tout ce qui est en rapport avec la peur, la haine, le mépris, le rejet des personnes et des cultures noires.\",\\n    \"label\": [\"Trop d\\'informations secondaires\", \"Référence culturelle difficile\"]\\n  },\\n  {\\n    \"term\": \"incendies\",\\n    \"label\": \"0\"\\n  },\\n  {\\n    \"term\": \"les\",\\n    \"label\": \"0\"\\n  },\\n  {\\n    \"term\": \"Zyed\",\\n    \"label\": [\"Référence culturelle difficile\"]\\n  },\\n  {\\n    \"term\": \"En 2005,\",\\n    \"label\": \"0\"\\n  },\\n  {\\n    \"term\": \"anti-négrophobie\",\\n    \"label\": [\"Mot difficile ou inconnu\", \"Référence culturelle difficile\"]\\n  },\\n  {\\n    \"term\": \"d\\'incitation à la haine raciale.\",\\n    \"label\": [\"Mot difficile ou inconnu\", \"Référence culturelle difficile\"]\\n  },\\n  {\\n    \"term\": \"discriminations\",\\n    \"label\": [\"Mot difficile ou inconnu\"]\\n  },\\n  {\\n    \"term\": \"elle ne s\\'en donne pas les moyens.\",\\n    \"label\": [\"Figure de style, expression idiomatique\"]\\n  },\\n  {\\n    \"term\": \"est fondamental dans la lutte contre le\",\\n    \"label\": \"0\"\\n  },\\n  {\\n    \"term\": \"Colbert\",\\n    \"label\": [\"Référence culturelle difficile\"]\\n  },\\n  {\\n    \"term\": \"actions?\",\\n    \"label\": \"0\"\\n  },\\n  {\\n    \"term\": \"depuis\",\\n    \"label\": \"0\"\\n  }\\n]'"
      ]
     },
     "execution_count": 41,
     "metadata": {},
     "output_type": "execute_result"
    }
   ],
   "execution_count": 41
  },
  {
   "metadata": {
    "ExecuteTime": {
     "end_time": "2025-05-18T12:13:30.360095Z",
     "start_time": "2025-05-18T12:13:30.356446Z"
    }
   },
   "cell_type": "code",
   "source": [
    "labels = set()\n",
    "clean_json_str = re.sub(r\"```json\\n|\\n```\", \"\", response.choices[0].message.content)\n",
    "jiji = json.loads(clean_json_str)\n",
    "for item in jiji:\n",
    "    print(item['label'])\n",
    "    labels.add(item['label'])"
   ],
   "id": "60aa99c2e972f379",
   "outputs": [
    {
     "name": "stdout",
     "output_type": "stream",
     "text": [
      "0\n",
      "1\n",
      "0\n",
      "1\n",
      "1\n",
      "1\n",
      "0\n",
      "1\n",
      "0\n",
      "1\n",
      "0\n",
      "0\n",
      "0\n",
      "0\n",
      "0\n",
      "1\n",
      "1\n",
      "0\n",
      "0\n",
      "1\n",
      "0\n",
      "0\n",
      "0\n",
      "1\n",
      "0\n",
      "0\n",
      "1\n",
      "0\n",
      "0\n",
      "1\n",
      "0\n",
      "0\n",
      "1\n",
      "0\n",
      "0\n",
      "0\n",
      "0\n",
      "1\n",
      "0\n",
      "0\n",
      "1\n",
      "1\n",
      "0\n",
      "1\n",
      "0\n",
      "0\n",
      "1\n",
      "0\n",
      "1\n",
      "1\n",
      "1\n",
      "1\n",
      "0\n",
      "1\n",
      "0\n",
      "0\n"
     ]
    }
   ],
   "execution_count": 56
  },
  {
   "metadata": {
    "ExecuteTime": {
     "end_time": "2025-05-18T12:13:40.095618Z",
     "start_time": "2025-05-18T12:13:40.092579Z"
    }
   },
   "cell_type": "code",
   "source": "labels",
   "id": "e8a57ada29f9b5c9",
   "outputs": [
    {
     "data": {
      "text/plain": [
       "{0, 1}"
      ]
     },
     "execution_count": 58,
     "metadata": {},
     "output_type": "execute_result"
    }
   ],
   "execution_count": 58
  },
  {
   "metadata": {
    "ExecuteTime": {
     "end_time": "2025-05-18T12:06:50.433160Z",
     "start_time": "2025-05-18T12:06:50.430220Z"
    }
   },
   "cell_type": "code",
   "source": [
    "#multi\n",
    "labels = set()\n",
    "jiji = json.loads(clean_json_str)\n",
    "for item in jiji:\n",
    "    print(item['label'])\n",
    "    if item['label'] == '0':\n",
    "        continue\n",
    "    [labels.add(i) for i in item['label']]"
   ],
   "id": "396ed56ae0878f1c",
   "outputs": [
    {
     "name": "stdout",
     "output_type": "stream",
     "text": [
      "0\n",
      "['Mot difficile ou inconnu', 'Référence culturelle difficile']\n",
      "['Référence culturelle difficile']\n",
      "['Mot difficile ou inconnu', 'Référence culturelle difficile']\n",
      "['Référence culturelle difficile']\n",
      "['Mot difficile ou inconnu', 'Difficulté liée à la grammaire']\n",
      "0\n",
      "['Difficulté liée à la grammaire', 'Figure de style, expression idiomatique', 'Mot difficile ou inconnu']\n",
      "0\n",
      "['Mot difficile ou inconnu']\n",
      "['Mot difficile ou inconnu']\n",
      "0\n",
      "0\n",
      "0\n",
      "0\n",
      "['Figure de style, expression idiomatique', 'Référence culturelle difficile']\n",
      "['Référence culturelle difficile']\n",
      "0\n",
      "['Figure de style, expression idiomatique']\n",
      "['Référence culturelle difficile']\n",
      "0\n",
      "['Mot difficile ou inconnu']\n",
      "0\n",
      "['Mot difficile ou inconnu', 'Référence culturelle difficile']\n",
      "0\n",
      "0\n",
      "['Référence culturelle difficile']\n",
      "['Difficulté liée à la grammaire']\n",
      "['Référence culturelle difficile']\n",
      "['Mot difficile ou inconnu']\n",
      "0\n",
      "0\n",
      "['Mot difficile ou inconnu']\n",
      "['Mot difficile ou inconnu']\n",
      "['Référence culturelle difficile']\n",
      "0\n",
      "0\n",
      "['Mot difficile ou inconnu']\n",
      "0\n",
      "0\n",
      "['Figure de style, expression idiomatique', 'Référence culturelle difficile']\n",
      "['Mot difficile ou inconnu', 'Référence culturelle difficile']\n",
      "0\n",
      "[\"Trop d'informations secondaires\", 'Référence culturelle difficile']\n",
      "0\n",
      "0\n",
      "['Référence culturelle difficile']\n",
      "0\n",
      "['Mot difficile ou inconnu', 'Référence culturelle difficile']\n",
      "['Mot difficile ou inconnu', 'Référence culturelle difficile']\n",
      "['Mot difficile ou inconnu']\n",
      "['Figure de style, expression idiomatique']\n",
      "0\n",
      "['Référence culturelle difficile']\n",
      "0\n",
      "0\n"
     ]
    }
   ],
   "execution_count": 47
  },
  {
   "metadata": {
    "ExecuteTime": {
     "end_time": "2025-05-18T12:07:39.954239Z",
     "start_time": "2025-05-18T12:07:39.950885Z"
    }
   },
   "cell_type": "code",
   "source": "definitions.keys()",
   "id": "e29a0b9acf2ebf10",
   "outputs": [
    {
     "data": {
      "text/plain": [
       "dict_keys(['Mot difficile ou inconnu', 'Graphie, problème de déchiffrage', 'Figure de style, expression idiomatique', 'Référence culturelle difficile', 'Difficulté liée à la grammaire', \"Trop d'informations secondaires\", 'Indice de cohésion difficile (connecteur, pronom, inférence)', 'Ordre syntaxique inhabituel'])"
      ]
     },
     "execution_count": 50,
     "metadata": {},
     "output_type": "execute_result"
    }
   ],
   "execution_count": 50
  },
  {
   "metadata": {
    "ExecuteTime": {
     "end_time": "2025-05-18T12:07:51.598921Z",
     "start_time": "2025-05-18T12:07:51.595848Z"
    }
   },
   "cell_type": "code",
   "source": " labels - set(definitions.keys())",
   "id": "bfa4ceeb395614b7",
   "outputs": [
    {
     "data": {
      "text/plain": [
       "set()"
      ]
     },
     "execution_count": 51,
     "metadata": {},
     "output_type": "execute_result"
    }
   ],
   "execution_count": 51
  },
  {
   "metadata": {},
   "cell_type": "code",
   "outputs": [],
   "execution_count": null,
   "source": [
    "client = OpenAI(api_key=None, base_url=\"https://api.deepseek.com/v1\")\n",
    "\n",
    "response = client.beta.chat.completions.parse(\n",
    "    model=\"deepseek-chat\",\n",
    "    messages=[\n",
    "        {\"role\": \"system\", \"content\": \"Tu es un expert en linguisitique, identifie les mots difficiles de cette phrase.\"\n",
    "                                      \" Format attendu : une liste d’objets JSON, un par mot, contenant les champs suivants :\\n\"\n",
    "                                        \"- \\\"term\\\" : le mot analysé\\n\"\n",
    "                                        \"- \\\"label\\\" : 1 si le mot est jugé complexe, sinon \\\"0\\\"\\n\\n\"},\n",
    "        {\"role\": \"user\", \"content\": \"Le temps est beau mais certaines personnes manquent d'envergure intellectuelle.\"},\n",
    "    ],\n",
    "    response_format={'type': 'json_object'},\n",
    ")\n",
    "\n",
    "print(response.choices[0].message.content)"
   ],
   "id": "99ba2d20f0e42bd2"
  },
  {
   "metadata": {},
   "cell_type": "code",
   "outputs": [
    {
     "name": "stdout",
     "output_type": "stream",
     "text": [
      "annotations=[AnnotatedTermBinary(term='Il', label=['0']), AnnotatedTermBinary(term='négrophobie?', label=['1']), AnnotatedTermBinary(term='région parisienne.', label=['0']), AnnotatedTermBinary(term='brigade anti-négrophobie', label=['1']), AnnotatedTermBinary(term='discriminations raciales.', label=['1']), AnnotatedTermBinary(term='inscrivait', label=['1']), AnnotatedTermBinary(term='2005. Pourquoi', label=['0']), AnnotatedTermBinary(term=\"des Noirs s'étaient battus pour de grandes idées. Je suis travailleur social. Éduquer les mentalités est fondamental dans la lutte contre\", label=['1']), AnnotatedTermBinary(term='avec', label=['0']), AnnotatedTermBinary(term='faciès.', label=['1']), AnnotatedTermBinary(term='antiraciste.', label=['1']), AnnotatedTermBinary(term='les', label=['0']), AnnotatedTermBinary(term='existe', label=['0']), AnnotatedTermBinary(term='sont', label=['0']), AnnotatedTermBinary(term='la', label=['0']), AnnotatedTermBinary(term='des images négatives : le', label=['1']), AnnotatedTermBinary(term='Tarzan »', label=['1']), AnnotatedTermBinary(term='moyens.', label=['1']), AnnotatedTermBinary(term='Éduquer', label=['1']), AnnotatedTermBinary(term='Tarzan.', label=['1']), AnnotatedTermBinary(term='racisme', label=['1']), AnnotatedTermBinary(term='brigade', label=['1']), AnnotatedTermBinary(term='la', label=['0']), AnnotatedTermBinary(term='négrophobie.', label=['1']), AnnotatedTermBinary(term='suis', label=['0']), AnnotatedTermBinary(term='peur,', label=['0']), AnnotatedTermBinary(term='Bouna.', label=['1']), AnnotatedTermBinary(term=\"s'est formée\", label=['0']), AnnotatedTermBinary(term='Pourquoi les Noirs et les Arabes sont', label=['0']), AnnotatedTermBinary(term='enchaîné', label=['1']), AnnotatedTermBinary(term='racisme', label=['1']), AnnotatedTermBinary(term='se', label=['0']), AnnotatedTermBinary(term='syndrome', label=['1']), AnnotatedTermBinary(term='collectif', label=['1']), AnnotatedTermBinary(term='Peuple.', label=['1']), AnnotatedTermBinary(term='par', label=['0']), AnnotatedTermBinary(term='fondamental dans', label=['1']), AnnotatedTermBinary(term=\"d'incitation\", label=['1']), AnnotatedTermBinary(term=':', label=['0']), AnnotatedTermBinary(term='France veut', label=['0']), AnnotatedTermBinary(term=\"Pourtant, l'un voudra se défriser les cheveux.\", label=['1']), AnnotatedTermBinary(term='syndrome Tarzan.', label=['1']), AnnotatedTermBinary(term='que', label=['0']), AnnotatedTermBinary(term='Tout ce qui est en rapport avec la peur, la haine, le mépris, le rejet des personnes et des cultures noires.', label=['1']), AnnotatedTermBinary(term='incendies', label=['1']), AnnotatedTermBinary(term='les', label=['0']), AnnotatedTermBinary(term='Zyed', label=['1']), AnnotatedTermBinary(term='En 2005,', label=['0']), AnnotatedTermBinary(term='anti-négrophobie', label=['1']), AnnotatedTermBinary(term=\"d'incitation à la haine raciale.\", label=['1']), AnnotatedTermBinary(term='discriminations', label=['1']), AnnotatedTermBinary(term=\"elle ne s'en donne pas les moyens.\", label=['1']), AnnotatedTermBinary(term='est fondamental dans la lutte contre le', label=['1']), AnnotatedTermBinary(term='Colbert', label=['1']), AnnotatedTermBinary(term='actions?', label=['0']), AnnotatedTermBinary(term='depuis', label=['0'])]\n"
     ]
    }
   ],
   "execution_count": 16,
   "source": [
    "# Direct model call\n",
    "response = client.beta.chat.completions.parse(\n",
    "    model=\"gpt-4.1\",\n",
    "    messages=messages,\n",
    "    response_format=AnnotatedTextBinary,\n",
    ")\n",
    "\n",
    "# Extract result\n",
    "result = response.choices[0].message.parsed\n",
    "print(result)"
   ],
   "id": "4c2e91b4ed35cc83"
  },
  {
   "metadata": {},
   "cell_type": "code",
   "outputs": [
    {
     "name": "stdout",
     "output_type": "stream",
     "text": [
      "Under a starry sky, a gentle unicorn tiptoed through a moonlit meadow, spreading sweet dreams wherever its shimmering hooves touched the grass.\n"
     ]
    }
   ],
   "execution_count": 3,
   "source": [
    "openai.api_key =None\n",
    "client = OpenAI(api_key=openai.api_key)\n",
    "\n",
    "response = client.responses.create(\n",
    "    model=\"gpt-4.1\",\n",
    "    input=\"Write a one-sentence bedtime story about a unicorn.\"\n",
    ")\n",
    "\n",
    "print(response.output_text)"
   ],
   "id": "e4626956464d1dfe"
  },
  {
   "metadata": {},
   "cell_type": "code",
   "outputs": [
    {
     "data": {
      "text/plain": [
       "AnnotatedTextBinary(annotations=[AnnotatedTermBinary(term='Il', label=['0']), AnnotatedTermBinary(term='négrophobie?', label=['1']), AnnotatedTermBinary(term='région parisienne.', label=['0']), AnnotatedTermBinary(term='brigade anti-négrophobie', label=['1']), AnnotatedTermBinary(term='discriminations raciales.', label=['1']), AnnotatedTermBinary(term='inscrivait', label=['1']), AnnotatedTermBinary(term='2005. Pourquoi', label=['0']), AnnotatedTermBinary(term=\"des Noirs s'étaient battus pour de grandes idées. Je suis travailleur social. Éduquer les mentalités est fondamental dans la lutte contre\", label=['1']), AnnotatedTermBinary(term='avec', label=['0']), AnnotatedTermBinary(term='faciès.', label=['1']), AnnotatedTermBinary(term='antiraciste.', label=['1']), AnnotatedTermBinary(term='les', label=['0']), AnnotatedTermBinary(term='existe', label=['0']), AnnotatedTermBinary(term='sont', label=['0']), AnnotatedTermBinary(term='la', label=['0']), AnnotatedTermBinary(term='des images négatives : le', label=['1']), AnnotatedTermBinary(term='Tarzan »', label=['1']), AnnotatedTermBinary(term='moyens.', label=['1']), AnnotatedTermBinary(term='Éduquer', label=['1']), AnnotatedTermBinary(term='Tarzan.', label=['1']), AnnotatedTermBinary(term='racisme', label=['1']), AnnotatedTermBinary(term='brigade', label=['1']), AnnotatedTermBinary(term='la', label=['0']), AnnotatedTermBinary(term='négrophobie.', label=['1']), AnnotatedTermBinary(term='suis', label=['0']), AnnotatedTermBinary(term='peur,', label=['0']), AnnotatedTermBinary(term='Bouna.', label=['1']), AnnotatedTermBinary(term=\"s'est formée\", label=['0']), AnnotatedTermBinary(term='Pourquoi les Noirs et les Arabes sont', label=['0']), AnnotatedTermBinary(term='enchaîné', label=['1']), AnnotatedTermBinary(term='racisme', label=['1']), AnnotatedTermBinary(term='se', label=['0']), AnnotatedTermBinary(term='syndrome', label=['1']), AnnotatedTermBinary(term='collectif', label=['1']), AnnotatedTermBinary(term='Peuple.', label=['1']), AnnotatedTermBinary(term='par', label=['0']), AnnotatedTermBinary(term='fondamental dans', label=['1']), AnnotatedTermBinary(term=\"d'incitation\", label=['1']), AnnotatedTermBinary(term=':', label=['0']), AnnotatedTermBinary(term='France veut', label=['0']), AnnotatedTermBinary(term=\"Pourtant, l'un voudra se défriser les cheveux.\", label=['1']), AnnotatedTermBinary(term='syndrome Tarzan.', label=['1']), AnnotatedTermBinary(term='que', label=['0']), AnnotatedTermBinary(term='Tout ce qui est en rapport avec la peur, la haine, le mépris, le rejet des personnes et des cultures noires.', label=['1']), AnnotatedTermBinary(term='incendies', label=['1']), AnnotatedTermBinary(term='les', label=['0']), AnnotatedTermBinary(term='Zyed', label=['1']), AnnotatedTermBinary(term='En 2005,', label=['0']), AnnotatedTermBinary(term='anti-négrophobie', label=['1']), AnnotatedTermBinary(term=\"d'incitation à la haine raciale.\", label=['1']), AnnotatedTermBinary(term='discriminations', label=['1']), AnnotatedTermBinary(term=\"elle ne s'en donne pas les moyens.\", label=['1']), AnnotatedTermBinary(term='est fondamental dans la lutte contre le', label=['1']), AnnotatedTermBinary(term='Colbert', label=['1']), AnnotatedTermBinary(term='actions?', label=['0']), AnnotatedTermBinary(term='depuis', label=['0'])])"
      ]
     },
     "execution_count": 24,
     "metadata": {},
     "output_type": "execute_result"
    }
   ],
   "execution_count": 24,
   "source": "response.choices[0].message.parsed",
   "id": "8b915922e36ce132"
  },
  {
   "metadata": {},
   "cell_type": "code",
   "outputs": [
    {
     "data": {
      "text/plain": [
       "ParsedChatCompletion[AnnotatedTextBinary](id='chatcmpl-BYIii9nRbF2e093KBy1CRFO0uqKZO', choices=[ParsedChoice[AnnotatedTextBinary](finish_reason='stop', index=0, logprobs=None, message=ParsedChatCompletionMessage[AnnotatedTextBinary](content='{\"annotations\":[{\"term\":\"Il\",\"label\":[\"0\"]},{\"term\":\"négrophobie?\",\"label\":[\"1\"]},{\"term\":\"région parisienne.\",\"label\":[\"0\"]},{\"term\":\"brigade anti-négrophobie\",\"label\":[\"1\"]},{\"term\":\"discriminations raciales.\",\"label\":[\"1\"]},{\"term\":\"inscrivait\",\"label\":[\"1\"]},{\"term\":\"2005. Pourquoi\",\"label\":[\"0\"]},{\"term\":\"des Noirs s\\'étaient battus pour de grandes idées. Je suis travailleur social. Éduquer les mentalités est fondamental dans la lutte contre\",\"label\":[\"1\"]},{\"term\":\"avec\",\"label\":[\"0\"]},{\"term\":\"faciès.\",\"label\":[\"1\"]},{\"term\":\"antiraciste.\",\"label\":[\"1\"]},{\"term\":\"les\",\"label\":[\"0\"]},{\"term\":\"existe\",\"label\":[\"0\"]},{\"term\":\"sont\",\"label\":[\"0\"]},{\"term\":\"la\",\"label\":[\"0\"]},{\"term\":\"des images négatives : le\",\"label\":[\"1\"]},{\"term\":\"Tarzan »\",\"label\":[\"1\"]},{\"term\":\"moyens.\",\"label\":[\"1\"]},{\"term\":\"Éduquer\",\"label\":[\"1\"]},{\"term\":\"Tarzan.\",\"label\":[\"1\"]},{\"term\":\"racisme\",\"label\":[\"1\"]},{\"term\":\"brigade\",\"label\":[\"1\"]},{\"term\":\"la\",\"label\":[\"0\"]},{\"term\":\"négrophobie.\",\"label\":[\"1\"]},{\"term\":\"suis\",\"label\":[\"0\"]},{\"term\":\"peur,\",\"label\":[\"0\"]},{\"term\":\"Bouna.\",\"label\":[\"1\"]},{\"term\":\"s\\'est formée\",\"label\":[\"0\"]},{\"term\":\"Pourquoi les Noirs et les Arabes sont\",\"label\":[\"0\"]},{\"term\":\"enchaîné\",\"label\":[\"1\"]},{\"term\":\"racisme\",\"label\":[\"1\"]},{\"term\":\"se\",\"label\":[\"0\"]},{\"term\":\"syndrome\",\"label\":[\"1\"]},{\"term\":\"collectif\",\"label\":[\"1\"]},{\"term\":\"Peuple.\",\"label\":[\"1\"]},{\"term\":\"par\",\"label\":[\"0\"]},{\"term\":\"fondamental dans\",\"label\":[\"1\"]},{\"term\":\"d\\'incitation\",\"label\":[\"1\"]},{\"term\":\":\",\"label\":[\"0\"]},{\"term\":\"France veut\",\"label\":[\"0\"]},{\"term\":\"Pourtant, l\\'un voudra se défriser les cheveux.\",\"label\":[\"1\"]},{\"term\":\"syndrome Tarzan.\",\"label\":[\"1\"]},{\"term\":\"que\",\"label\":[\"0\"]},{\"term\":\"Tout ce qui est en rapport avec la peur, la haine, le mépris, le rejet des personnes et des cultures noires.\",\"label\":[\"1\"]},{\"term\":\"incendies\",\"label\":[\"1\"]},{\"term\":\"les\",\"label\":[\"0\"]},{\"term\":\"Zyed\",\"label\":[\"1\"]},{\"term\":\"En 2005,\",\"label\":[\"0\"]},{\"term\":\"anti-négrophobie\",\"label\":[\"1\"]},{\"term\":\"d\\'incitation à la haine raciale.\",\"label\":[\"1\"]},{\"term\":\"discriminations\",\"label\":[\"1\"]},{\"term\":\"elle ne s\\'en donne pas les moyens.\",\"label\":[\"1\"]},{\"term\":\"est fondamental dans la lutte contre le\",\"label\":[\"1\"]},{\"term\":\"Colbert\",\"label\":[\"1\"]},{\"term\":\"actions?\",\"label\":[\"0\"]},{\"term\":\"depuis\",\"label\":[\"0\"]}]}', refusal=None, role='assistant', annotations=[], audio=None, function_call=None, tool_calls=None, parsed=AnnotatedTextBinary(annotations=[AnnotatedTermBinary(term='Il', label=['0']), AnnotatedTermBinary(term='négrophobie?', label=['1']), AnnotatedTermBinary(term='région parisienne.', label=['0']), AnnotatedTermBinary(term='brigade anti-négrophobie', label=['1']), AnnotatedTermBinary(term='discriminations raciales.', label=['1']), AnnotatedTermBinary(term='inscrivait', label=['1']), AnnotatedTermBinary(term='2005. Pourquoi', label=['0']), AnnotatedTermBinary(term=\"des Noirs s'étaient battus pour de grandes idées. Je suis travailleur social. Éduquer les mentalités est fondamental dans la lutte contre\", label=['1']), AnnotatedTermBinary(term='avec', label=['0']), AnnotatedTermBinary(term='faciès.', label=['1']), AnnotatedTermBinary(term='antiraciste.', label=['1']), AnnotatedTermBinary(term='les', label=['0']), AnnotatedTermBinary(term='existe', label=['0']), AnnotatedTermBinary(term='sont', label=['0']), AnnotatedTermBinary(term='la', label=['0']), AnnotatedTermBinary(term='des images négatives : le', label=['1']), AnnotatedTermBinary(term='Tarzan »', label=['1']), AnnotatedTermBinary(term='moyens.', label=['1']), AnnotatedTermBinary(term='Éduquer', label=['1']), AnnotatedTermBinary(term='Tarzan.', label=['1']), AnnotatedTermBinary(term='racisme', label=['1']), AnnotatedTermBinary(term='brigade', label=['1']), AnnotatedTermBinary(term='la', label=['0']), AnnotatedTermBinary(term='négrophobie.', label=['1']), AnnotatedTermBinary(term='suis', label=['0']), AnnotatedTermBinary(term='peur,', label=['0']), AnnotatedTermBinary(term='Bouna.', label=['1']), AnnotatedTermBinary(term=\"s'est formée\", label=['0']), AnnotatedTermBinary(term='Pourquoi les Noirs et les Arabes sont', label=['0']), AnnotatedTermBinary(term='enchaîné', label=['1']), AnnotatedTermBinary(term='racisme', label=['1']), AnnotatedTermBinary(term='se', label=['0']), AnnotatedTermBinary(term='syndrome', label=['1']), AnnotatedTermBinary(term='collectif', label=['1']), AnnotatedTermBinary(term='Peuple.', label=['1']), AnnotatedTermBinary(term='par', label=['0']), AnnotatedTermBinary(term='fondamental dans', label=['1']), AnnotatedTermBinary(term=\"d'incitation\", label=['1']), AnnotatedTermBinary(term=':', label=['0']), AnnotatedTermBinary(term='France veut', label=['0']), AnnotatedTermBinary(term=\"Pourtant, l'un voudra se défriser les cheveux.\", label=['1']), AnnotatedTermBinary(term='syndrome Tarzan.', label=['1']), AnnotatedTermBinary(term='que', label=['0']), AnnotatedTermBinary(term='Tout ce qui est en rapport avec la peur, la haine, le mépris, le rejet des personnes et des cultures noires.', label=['1']), AnnotatedTermBinary(term='incendies', label=['1']), AnnotatedTermBinary(term='les', label=['0']), AnnotatedTermBinary(term='Zyed', label=['1']), AnnotatedTermBinary(term='En 2005,', label=['0']), AnnotatedTermBinary(term='anti-négrophobie', label=['1']), AnnotatedTermBinary(term=\"d'incitation à la haine raciale.\", label=['1']), AnnotatedTermBinary(term='discriminations', label=['1']), AnnotatedTermBinary(term=\"elle ne s'en donne pas les moyens.\", label=['1']), AnnotatedTermBinary(term='est fondamental dans la lutte contre le', label=['1']), AnnotatedTermBinary(term='Colbert', label=['1']), AnnotatedTermBinary(term='actions?', label=['0']), AnnotatedTermBinary(term='depuis', label=['0'])])))], created=1747514812, model='gpt-4.1-2025-04-14', object='chat.completion', service_tier='default', system_fingerprint='fp_2d9626f3cf', usage=CompletionUsage(completion_tokens=690, prompt_tokens=1629, total_tokens=2319, completion_tokens_details=CompletionTokensDetails(accepted_prediction_tokens=0, audio_tokens=0, reasoning_tokens=0, rejected_prediction_tokens=0), prompt_tokens_details=PromptTokensDetails(audio_tokens=0, cached_tokens=0)))"
      ]
     },
     "execution_count": 20,
     "metadata": {},
     "output_type": "execute_result"
    }
   ],
   "source": "",
   "id": "33223ed77b881b0c",
   "execution_count": null
  },
  {
   "metadata": {},
   "cell_type": "code",
   "outputs": [
    {
     "data": {
      "text/plain": [
       "Response(id='resp_6828e8a492b481919ca5349dd545c7aa0e7317db0be34109', created_at=1747511460.0, error=None, incomplete_details=None, instructions=None, metadata={}, model='gpt-4.1-2025-04-14', object='response', output=[ResponseOutputMessage(id='msg_6828e8a507cc81919a5b179f2b483de20e7317db0be34109', content=[ResponseOutputText(annotations=[], text='Under a starry sky, a gentle unicorn tiptoed through a moonlit meadow, spreading sweet dreams wherever its shimmering hooves touched the grass.', type='output_text')], role='assistant', status='completed', type='message')], parallel_tool_calls=True, temperature=1.0, tool_choice='auto', tools=[], top_p=1.0, max_output_tokens=None, previous_response_id=None, reasoning=Reasoning(effort=None, generate_summary=None, summary=None), service_tier='default', status='completed', text=ResponseTextConfig(format=ResponseFormatText(type='text')), truncation='disabled', usage=ResponseUsage(input_tokens=18, input_tokens_details=InputTokensDetails(cached_tokens=0), output_tokens=31, output_tokens_details=OutputTokensDetails(reasoning_tokens=0), total_tokens=49), user=None, store=True)"
      ]
     },
     "execution_count": 4,
     "metadata": {},
     "output_type": "execute_result"
    }
   ],
   "execution_count": 4,
   "source": "response",
   "id": "c175cdcfc6249fd5"
  }
 ],
 "metadata": {
  "kernelspec": {
   "display_name": "Python 3",
   "language": "python",
   "name": "python3"
  },
  "language_info": {
   "codemirror_mode": {
    "name": "ipython",
    "version": 2
   },
   "file_extension": ".py",
   "mimetype": "text/x-python",
   "name": "python",
   "nbconvert_exporter": "python",
   "pygments_lexer": "ipython2",
   "version": "2.7.6"
  }
 },
 "nbformat": 4,
 "nbformat_minor": 5
}
